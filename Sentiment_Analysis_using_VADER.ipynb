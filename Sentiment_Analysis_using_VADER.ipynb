{
  "nbformat": 4,
  "nbformat_minor": 0,
  "metadata": {
    "colab": {
      "provenance": [],
      "include_colab_link": true
    },
    "kernelspec": {
      "name": "python3",
      "display_name": "Python 3"
    }
  },
  "cells": [
    {
      "cell_type": "markdown",
      "metadata": {
        "id": "view-in-github",
        "colab_type": "text"
      },
      "source": [
        "<a href=\"https://colab.research.google.com/github/Nukaraju2003/Natural-Language-Processing/blob/main/Sentiment_Analysis_using_VADER.ipynb\" target=\"_parent\"><img src=\"https://colab.research.google.com/assets/colab-badge.svg\" alt=\"Open In Colab\"/></a>"
      ]
    },
    {
      "cell_type": "markdown",
      "metadata": {
        "id": "QktNI8gGZ-AG"
      },
      "source": [
        "# VADER Sentiment Analysis\n",
        "\n",
        "Valence Aware Dictionary and Sentiment Reasoner (VADER) is a lexicon and rule-based sentiment analysis tool that is specifically attuned to sentiments expressed in social media. VADER does not requires any training data but is constructed from a generalizable, valence-based, human-curated gold standard sentiment lexicon. (A sentiment lexicon is a list of lexical features e.g., words, which are generally labelled according to their semantic orientation as either positive or negative.). VADER has been found to be quite successful when dealing with social media texts, editorials, movie reviews, and product reviews. This is because VADER not only tells about the Positivity and Negativity score but also tells us about how positive or negative a sentiment is."
      ]
    },
    {
      "cell_type": "markdown",
      "metadata": {
        "id": "Kn5G-r-Pajt5"
      },
      "source": [
        "## Import the library"
      ]
    },
    {
      "cell_type": "code",
      "metadata": {
        "id": "6UIoV39Yahqe",
        "outputId": "ee337a6e-b251-41a5-ce05-d850f2be8fc5",
        "colab": {
          "base_uri": "https://localhost:8080/",
          "height": 34
        }
      },
      "source": [
        "import nltk\n",
        "nltk.download('vader_lexicon')\n",
        "from nltk.sentiment.vader import SentimentIntensityAnalyzer\n",
        "analyser = SentimentIntensityAnalyzer()"
      ],
      "execution_count": null,
      "outputs": [
        {
          "output_type": "stream",
          "text": [
            "[nltk_data] Downloading package vader_lexicon to /root/nltk_data...\n"
          ],
          "name": "stdout"
        }
      ]
    },
    {
      "cell_type": "markdown",
      "metadata": {
        "id": "S5L4c9Duaq23"
      },
      "source": [
        "## Scoring\n",
        "We will use the polarity_scores() method to obtain the polarity indices for the given sentence."
      ]
    },
    {
      "cell_type": "code",
      "metadata": {
        "id": "Qmp-ApaLarP6"
      },
      "source": [
        "def sentiment_analyzer_scores(sentence):\n",
        "    score = analyser.polarity_scores(sentence)\n",
        "    print(\"{} {}\".format(sentence, str(score)))"
      ],
      "execution_count": null,
      "outputs": []
    },
    {
      "cell_type": "markdown",
      "metadata": {
        "id": "KVPbAiAKbWai"
      },
      "source": [
        "Let's see how it performs on a custom sentence"
      ]
    },
    {
      "cell_type": "code",
      "metadata": {
        "id": "HSgsGy0tbXA9",
        "outputId": "5fba7b4d-866a-4c5e-ddc1-19c8eae16847",
        "colab": {
          "base_uri": "https://localhost:8080/",
          "height": 34
        }
      },
      "source": [
        "sentiment_analyzer_scores(\"VADER is smart, handsome, and funny.\")"
      ],
      "execution_count": null,
      "outputs": [
        {
          "output_type": "stream",
          "text": [
            "VADER is smart, handsome, and funny. {'neg': 0.0, 'neu': 0.254, 'pos': 0.746, 'compound': 0.8316}\n"
          ],
          "name": "stdout"
        }
      ]
    },
    {
      "cell_type": "markdown",
      "metadata": {
        "id": "oHotkfLjbZJ3"
      },
      "source": [
        "1. The Positive, Negative and Neutral scores represent the proportion of text that falls in these categories. This means our sentence was rated as 75% Positive, 25% Neutral and 0% Negative. Hence all these should add up to 1.\n",
        "2. The compound score is computed by summing the valence scores of each word in the lexicon, adjusted according to the rules, and then normalized to be between -1 (most extreme negative) and +1 (most extreme positive). This is the most useful metric if you want a single unidimensional measure of sentiment for a given sentence. Calling it a 'normalized, weighted composite score' is accurate.\n",
        " positive sentiment: compound score >= 0.05\n",
        " neutral sentiment: (compound score > -0.05) and (compound score < 0.05)\n",
        " negative sentiment: compound score <= -0.05"
      ]
    },
    {
      "cell_type": "markdown",
      "metadata": {
        "id": "ibkDVDz_bllJ"
      },
      "source": [
        "## Where does VADER Fail?\n",
        "You saw how better VADER model is for analyzing social media texts. However, on more nuanced examples, it performs poorly.\n",
        "\n",
        "Consider the review “everything tastes like garbage to me but we keep coming back because my wife loves the pasta”. Clearly the reviewer does NOT like this restaurant, despite the fact that his or her wife “loves” the pasta. So for humans, this review is a clear negative.\n",
        "\n",
        "Let's see what VADER does."
      ]
    },
    {
      "cell_type": "code",
      "metadata": {
        "id": "Uq1XmVUAbeWB",
        "outputId": "d59046c5-beb6-4828-e357-5877f1842b4e",
        "colab": {
          "base_uri": "https://localhost:8080/",
          "height": 34
        }
      },
      "source": [
        "sentiment_analyzer_scores(\"everything tastes like garbage to me but we keep coming back because my wife loves the pasta\")"
      ],
      "execution_count": null,
      "outputs": [
        {
          "output_type": "stream",
          "text": [
            "everything tastes like garbage to me but we keep coming back because my wife loves the pasta {'neg': 0.0, 'neu': 0.688, 'pos': 0.312, 'compound': 0.7783}\n"
          ],
          "name": "stdout"
        }
      ]
    },
    {
      "cell_type": "markdown",
      "metadata": {
        "id": "yUHJv1azbyma"
      },
      "source": [
        "VADER instead returns a compound score of 0.78, which means highly positive. It relies on the polarity of certain words to determine the overall sentiment. It doesn't have a broader syntactic understanding of the sentence."
      ]
    },
    {
      "cell_type": "markdown",
      "metadata": {
        "id": "Y5CRHjYVb4x5"
      },
      "source": [
        "**Now let's try sentiment analysis on two classical ML based methods as your assignments:**\n",
        "\n",
        "1. Naive-Bayes\n",
        "2. SVM"
      ]
    },
    {
      "cell_type": "code",
      "metadata": {
        "id": "CA6LQ-dsb08v"
      },
      "source": [],
      "execution_count": null,
      "outputs": []
    }
  ]
}