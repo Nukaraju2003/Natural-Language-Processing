{
  "cells": [
    {
      "cell_type": "markdown",
      "metadata": {
        "id": "view-in-github",
        "colab_type": "text"
      },
      "source": [
        "<a href=\"https://colab.research.google.com/github/Nukaraju2003/Natural-Language-Processing/blob/main/Combined_Approch_Translation_(1).ipynb\" target=\"_parent\"><img src=\"https://colab.research.google.com/assets/colab-badge.svg\" alt=\"Open In Colab\"/></a>"
      ]
    },
    {
      "cell_type": "code",
      "execution_count": null,
      "metadata": {
        "id": "mwpmdQQ8c7bF"
      },
      "outputs": [],
      "source": []
    },
    {
      "cell_type": "markdown",
      "metadata": {
        "id": "4VynMmN6c8mr"
      },
      "source": [
        "#### **Working Combined Approch Using Facebook and MarianMT model**\n",
        "\n",
        "\n",
        "1.   **facebook/nllb-200-distilled-1.3B** = Hindi to English Translation\n",
        "2.   **Helsinki-NLP/opus-mt-en-hi** = English to Hindi Translation\n",
        "\n"
      ]
    },
    {
      "cell_type": "code",
      "execution_count": null,
      "metadata": {
        "colab": {
          "background_save": true,
          "base_uri": "https://localhost:8080/"
        },
        "id": "qs7PFgkTdicu",
        "outputId": "f355ec58-9a60-43d3-f8eb-744073162690"
      },
      "outputs": [
        {
          "name": "stdout",
          "output_type": "stream",
          "text": [
            "Requirement already satisfied: transformers in /usr/local/lib/python3.10/dist-packages (4.46.2)\n",
            "Requirement already satisfied: datasets in /usr/local/lib/python3.10/dist-packages (3.1.0)\n",
            "Requirement already satisfied: sentencepiece in /usr/local/lib/python3.10/dist-packages (0.2.0)\n",
            "Requirement already satisfied: sacrebleu in /usr/local/lib/python3.10/dist-packages (2.4.3)\n",
            "Requirement already satisfied: evaluate in /usr/local/lib/python3.10/dist-packages (0.4.3)\n",
            "Requirement already satisfied: torch in /usr/local/lib/python3.10/dist-packages (2.5.1+cu121)\n",
            "Requirement already satisfied: filelock in /usr/local/lib/python3.10/dist-packages (from transformers) (3.16.1)\n",
            "Requirement already satisfied: huggingface-hub<1.0,>=0.23.2 in /usr/local/lib/python3.10/dist-packages (from transformers) (0.26.2)\n",
            "Requirement already satisfied: numpy>=1.17 in /usr/local/lib/python3.10/dist-packages (from transformers) (1.26.4)\n",
            "Requirement already satisfied: packaging>=20.0 in /usr/local/lib/python3.10/dist-packages (from transformers) (24.2)\n",
            "Requirement already satisfied: pyyaml>=5.1 in /usr/local/lib/python3.10/dist-packages (from transformers) (6.0.2)\n",
            "Requirement already satisfied: regex!=2019.12.17 in /usr/local/lib/python3.10/dist-packages (from transformers) (2024.9.11)\n",
            "Requirement already satisfied: requests in /usr/local/lib/python3.10/dist-packages (from transformers) (2.32.3)\n",
            "Requirement already satisfied: safetensors>=0.4.1 in /usr/local/lib/python3.10/dist-packages (from transformers) (0.4.5)\n",
            "Requirement already satisfied: tokenizers<0.21,>=0.20 in /usr/local/lib/python3.10/dist-packages (from transformers) (0.20.3)\n",
            "Requirement already satisfied: tqdm>=4.27 in /usr/local/lib/python3.10/dist-packages (from transformers) (4.66.6)\n",
            "Requirement already satisfied: pyarrow>=15.0.0 in /usr/local/lib/python3.10/dist-packages (from datasets) (17.0.0)\n",
            "Requirement already satisfied: dill<0.3.9,>=0.3.0 in /usr/local/lib/python3.10/dist-packages (from datasets) (0.3.8)\n",
            "Requirement already satisfied: pandas in /usr/local/lib/python3.10/dist-packages (from datasets) (2.2.2)\n",
            "Requirement already satisfied: xxhash in /usr/local/lib/python3.10/dist-packages (from datasets) (3.5.0)\n",
            "Requirement already satisfied: multiprocess<0.70.17 in /usr/local/lib/python3.10/dist-packages (from datasets) (0.70.16)\n",
            "Requirement already satisfied: fsspec<=2024.9.0,>=2023.1.0 in /usr/local/lib/python3.10/dist-packages (from fsspec[http]<=2024.9.0,>=2023.1.0->datasets) (2024.9.0)\n",
            "Requirement already satisfied: aiohttp in /usr/local/lib/python3.10/dist-packages (from datasets) (3.11.2)\n",
            "Requirement already satisfied: portalocker in /usr/local/lib/python3.10/dist-packages (from sacrebleu) (3.0.0)\n",
            "Requirement already satisfied: tabulate>=0.8.9 in /usr/local/lib/python3.10/dist-packages (from sacrebleu) (0.9.0)\n",
            "Requirement already satisfied: colorama in /usr/local/lib/python3.10/dist-packages (from sacrebleu) (0.4.6)\n",
            "Requirement already satisfied: lxml in /usr/local/lib/python3.10/dist-packages (from sacrebleu) (5.3.0)\n",
            "Requirement already satisfied: typing-extensions>=4.8.0 in /usr/local/lib/python3.10/dist-packages (from torch) (4.12.2)\n",
            "Requirement already satisfied: networkx in /usr/local/lib/python3.10/dist-packages (from torch) (3.4.2)\n",
            "Requirement already satisfied: jinja2 in /usr/local/lib/python3.10/dist-packages (from torch) (3.1.4)\n",
            "Requirement already satisfied: sympy==1.13.1 in /usr/local/lib/python3.10/dist-packages (from torch) (1.13.1)\n",
            "Requirement already satisfied: mpmath<1.4,>=1.1.0 in /usr/local/lib/python3.10/dist-packages (from sympy==1.13.1->torch) (1.3.0)\n",
            "Requirement already satisfied: aiohappyeyeballs>=2.3.0 in /usr/local/lib/python3.10/dist-packages (from aiohttp->datasets) (2.4.3)\n",
            "Requirement already satisfied: aiosignal>=1.1.2 in /usr/local/lib/python3.10/dist-packages (from aiohttp->datasets) (1.3.1)\n",
            "Requirement already satisfied: attrs>=17.3.0 in /usr/local/lib/python3.10/dist-packages (from aiohttp->datasets) (24.2.0)\n",
            "Requirement already satisfied: frozenlist>=1.1.1 in /usr/local/lib/python3.10/dist-packages (from aiohttp->datasets) (1.5.0)\n",
            "Requirement already satisfied: multidict<7.0,>=4.5 in /usr/local/lib/python3.10/dist-packages (from aiohttp->datasets) (6.1.0)\n",
            "Requirement already satisfied: propcache>=0.2.0 in /usr/local/lib/python3.10/dist-packages (from aiohttp->datasets) (0.2.0)\n",
            "Requirement already satisfied: yarl<2.0,>=1.17.0 in /usr/local/lib/python3.10/dist-packages (from aiohttp->datasets) (1.17.2)\n",
            "Requirement already satisfied: async-timeout<6.0,>=4.0 in /usr/local/lib/python3.10/dist-packages (from aiohttp->datasets) (4.0.3)\n",
            "Requirement already satisfied: charset-normalizer<4,>=2 in /usr/local/lib/python3.10/dist-packages (from requests->transformers) (3.4.0)\n",
            "Requirement already satisfied: idna<4,>=2.5 in /usr/local/lib/python3.10/dist-packages (from requests->transformers) (3.10)\n",
            "Requirement already satisfied: urllib3<3,>=1.21.1 in /usr/local/lib/python3.10/dist-packages (from requests->transformers) (2.2.3)\n",
            "Requirement already satisfied: certifi>=2017.4.17 in /usr/local/lib/python3.10/dist-packages (from requests->transformers) (2024.8.30)\n",
            "Requirement already satisfied: MarkupSafe>=2.0 in /usr/local/lib/python3.10/dist-packages (from jinja2->torch) (3.0.2)\n",
            "Requirement already satisfied: python-dateutil>=2.8.2 in /usr/local/lib/python3.10/dist-packages (from pandas->datasets) (2.8.2)\n",
            "Requirement already satisfied: pytz>=2020.1 in /usr/local/lib/python3.10/dist-packages (from pandas->datasets) (2024.2)\n",
            "Requirement already satisfied: tzdata>=2022.7 in /usr/local/lib/python3.10/dist-packages (from pandas->datasets) (2024.2)\n",
            "Requirement already satisfied: six>=1.5 in /usr/local/lib/python3.10/dist-packages (from python-dateutil>=2.8.2->pandas->datasets) (1.16.0)\n"
          ]
        }
      ],
      "source": [
        "!pip install transformers datasets sentencepiece sacrebleu evaluate torch"
      ]
    },
    {
      "cell_type": "code",
      "execution_count": null,
      "metadata": {
        "id": "JR9IORYudmv4"
      },
      "outputs": [],
      "source": [
        "from transformers import AutoTokenizer, AutoModelForSeq2SeqLM, MarianTokenizer, MarianMTModel\n",
        "import warnings\n",
        "warnings.filterwarnings(\"ignore\")\n",
        "from transformers import MarianMTModel, MarianTokenizer"
      ]
    },
    {
      "cell_type": "markdown",
      "metadata": {
        "id": "upXzp2VzeCrg"
      },
      "source": [
        "##### Intitialize models and tokenizers\n",
        "\n",
        "\n",
        "*   For the Hindi to englsih Translation.\n",
        "\n",
        "*   Used - `facebook/nllb-200-distilled-1.3B`\n",
        "*   Model - NLLB-200 i.e.  `NLLB-200's distilled 1.3B variant` is a machine translation model primarily intended for research in machine translation, - especially for low-resource languages. It allows for single sentence translation among 200 languages.\n",
        "\n",
        "\n",
        "\n",
        "\n",
        "\n"
      ]
    },
    {
      "cell_type": "code",
      "execution_count": null,
      "metadata": {
        "id": "OgWpl_8FdmyE"
      },
      "outputs": [],
      "source": [
        "tokenizer = AutoTokenizer.from_pretrained(\"facebook/nllb-200-distilled-1.3B\")\n",
        "model = AutoModelForSeq2SeqLM.from_pretrained(\"facebook/nllb-200-distilled-1.3B\")"
      ]
    },
    {
      "cell_type": "markdown",
      "metadata": {
        "id": "RzvapBSVgjJv"
      },
      "source": [
        "<hr> </hr>"
      ]
    },
    {
      "cell_type": "markdown",
      "metadata": {
        "id": "Brf50PLsfbIz"
      },
      "source": [
        "*   For the English to Hindi Translation.\n",
        "\n",
        "*   Used - `Helsinki-NLP/opus-mt-en-hi`\n",
        "*   Model - English Hindi pair."
      ]
    },
    {
      "cell_type": "code",
      "execution_count": null,
      "metadata": {
        "id": "5Ap83s22dm1W"
      },
      "outputs": [],
      "source": [
        "helsinki_tokenizer = MarianTokenizer.from_pretrained(\"Helsinki-NLP/opus-mt-en-hi\")\n",
        "helsinki_model = MarianMTModel.from_pretrained(\"Helsinki-NLP/opus-mt-en-hi\")"
      ]
    },
    {
      "cell_type": "markdown",
      "metadata": {
        "id": "hNXPxMAYpRP9"
      },
      "source": [
        "<hr> </hr>"
      ]
    },
    {
      "cell_type": "markdown",
      "metadata": {
        "id": "jpn1_plfpfGI"
      },
      "source": [
        "##### **Hindi to English Translation Unsing NLLB**"
      ]
    },
    {
      "cell_type": "code",
      "execution_count": null,
      "metadata": {
        "id": "8VSBOC9lpO-B"
      },
      "outputs": [],
      "source": [
        "def hindi_to_english(text):\n",
        "    # Get the target language code Usinf NLLB\n",
        "    src_lang = \"hi_Deva\"  # hi_Deva fot the Hindi Language , NLLB Contains Hindi Devanagari script\n",
        "    tgt_lang = \"eng_Latn\"  # eng_Latn fro English Language , NLLB Contains English Latin script\n",
        "\n",
        "    # Preparing the tokenization from Source Language and Target Language\n",
        "    tokenizer.src_lang = src_lang\n",
        "    tokenizer.tgt_lang = tgt_lang\n",
        "\n",
        "    # Tokenize the input text\n",
        "    inputs = tokenizer(text, return_tensors=\"pt\", padding=True)\n",
        "\n",
        "    # Generate the translation\n",
        "    outputs = model.generate(**inputs, forced_bos_token_id=tokenizer.convert_tokens_to_ids(tgt_lang))\n",
        "\n",
        "    # Decoding the tokenization into text\n",
        "    translated_sentence = tokenizer.decode(outputs[0], skip_special_tokens=True)\n",
        "\n",
        "    return translated_sentence\n"
      ]
    },
    {
      "cell_type": "markdown",
      "metadata": {
        "id": "alESDY1CrpjM"
      },
      "source": [
        "##### **English to Hindi Translation Unsing Helsinki**"
      ]
    },
    {
      "cell_type": "code",
      "execution_count": null,
      "metadata": {
        "id": "g29KWAYfrjiw"
      },
      "outputs": [],
      "source": [
        "def english_to_hindi(text):\n",
        "  #tokenization\n",
        "  inputs = helsinki_tokenizer(text, return_tensors=\"pt\", padding=True)\n",
        "  #translation using tokenization\n",
        "  outputs = helsinki_model.generate(**inputs)\n",
        "\n",
        "  #Decoding the Tokenizer into text\n",
        "  return helsinki_tokenizer.decode(outputs[0],skip_special_tokens=True)"
      ]
    },
    {
      "cell_type": "markdown",
      "metadata": {
        "id": "lNykxQj6syCM"
      },
      "source": [
        "##### **Definig the English and Hindi Text for Example.**"
      ]
    },
    {
      "cell_type": "code",
      "execution_count": null,
      "metadata": {
        "id": "F-CMBseSstN8"
      },
      "outputs": [],
      "source": [
        "hindi_text = \"कालबैक फोन\"\n",
        "english_text = \"I love reading books.\""
      ]
    },
    {
      "cell_type": "markdown",
      "metadata": {
        "id": "ejBaXCXatF5Q"
      },
      "source": [
        "##### **Translating Hindi to English**"
      ]
    },
    {
      "cell_type": "code",
      "execution_count": null,
      "metadata": {
        "colab": {
          "base_uri": "https://localhost:8080/"
        },
        "id": "rj5NtsBHtEBm",
        "outputId": "02409c22-40b9-446f-9204-26a7ff244432"
      },
      "outputs": [
        {
          "name": "stdout",
          "output_type": "stream",
          "text": [
            "Hindi to English: Callback phone \n"
          ]
        }
      ],
      "source": [
        "translated_to_english = hindi_to_english(hindi_text)   # Calling the Function.\n",
        "print(\"Hindi to English:\", translated_to_english)"
      ]
    },
    {
      "cell_type": "code",
      "execution_count": null,
      "metadata": {
        "colab": {
          "base_uri": "https://localhost:8080/"
        },
        "id": "jmnI0qW2uUFT",
        "outputId": "2f7533c4-9ec1-4cbe-8e65-6d7181b01f5b"
      },
      "outputs": [
        {
          "name": "stdout",
          "output_type": "stream",
          "text": [
            "English to Hindi: मैं किताबों को पढ़ने के लिए प्यार करता हूँ.\n"
          ]
        }
      ],
      "source": [
        "translated_to_hindi = english_to_hindi(english_text)   # Calling the Function\n",
        "print(\"English to Hindi:\", translated_to_hindi)"
      ]
    },
    {
      "cell_type": "markdown",
      "metadata": {
        "id": "-Ux9TW4SJCav"
      },
      "source": [
        "#### **Testing with Test Cases**"
      ]
    },
    {
      "cell_type": "code",
      "execution_count": null,
      "metadata": {
        "colab": {
          "base_uri": "https://localhost:8080/"
        },
        "id": "YQdlxGHztoZ0",
        "outputId": "69e89712-4fea-4309-ed23-24daf927bdbd"
      },
      "outputs": [
        {
          "name": "stdout",
          "output_type": "stream",
          "text": [
            "Requirement already satisfied: tabulate in /usr/local/lib/python3.10/dist-packages (0.9.0)\n"
          ]
        }
      ],
      "source": [
        "!pip install tabulate"
      ]
    },
    {
      "cell_type": "code",
      "execution_count": null,
      "metadata": {
        "id": "0JT7spk3vwj7"
      },
      "outputs": [],
      "source": [
        "from tabulate import tabulate\n",
        "# Example test cases\n",
        "test_cases = [\n",
        "    {\"input\": \"मुझे हिन्दी से अंग्रेजी में अनुवाद करना है।\", \"direction\": \"hindi_to_english\"},\n",
        "    {\"input\": \"I want to translate from English to Hindi.\", \"direction\": \"english_to_hindi\"},\n",
        "    {\"input\": \"मेरा नाम आज़ार है।\", \"direction\": \"hindi_to_english\"},\n",
        "    {\"input\": \"My name is Azar.\", \"direction\": \"english_to_hindi\"},\n",
        "    {\"input\": \"आप कैसे हैं?\", \"direction\": \"hindi_to_english\"},\n",
        "    {\"input\": \"How are you?\", \"direction\": \"english_to_hindi\"},\n",
        "    {\"input\": \"What is your name?\", \"direction\": \"english_to_hindi\"},\n",
        "    {\"input\": \"India is Country of Many Languages and diverse culture\", \"direction\": \"english_to_hindi\"},\n",
        "    {\"input\": \"कालबैक फोन\", \"direction\": \"hindi_to_english\"}\n",
        "]"
      ]
    },
    {
      "cell_type": "code",
      "execution_count": null,
      "metadata": {
        "id": "FiifQN36ylQ0"
      },
      "outputs": [],
      "source": [
        "# Function to evaluate translations\n",
        "def evaluate_translations(test_cases):\n",
        "    results = []\n",
        "\n",
        "    for case in test_cases:\n",
        "        input_text = case[\"input\"]\n",
        "        direction = case[\"direction\"]\n",
        "\n",
        "        if direction == \"hindi_to_english\":\n",
        "            output = hindi_to_english(input_text)\n",
        "        elif direction == \"english_to_hindi\":\n",
        "            output = english_to_hindi(input_text)\n",
        "        else:\n",
        "            output = \"Invalid direction\"\n",
        "\n",
        "        results.append({\n",
        "            \"Input Text\": input_text,\n",
        "            \"Direction\": direction.replace(\"_\", \" \").title(),\n",
        "            \"Translated Output\": output\n",
        "        })\n",
        "\n",
        "    return results\n",
        "\n",
        "# Run evaluation\n",
        "results = evaluate_translations(test_cases)"
      ]
    },
    {
      "cell_type": "code",
      "execution_count": null,
      "metadata": {
        "colab": {
          "base_uri": "https://localhost:8080/"
        },
        "id": "9l8_Ans8yQZw",
        "outputId": "c31e1a87-eda8-4f0c-a5d9-762fa4c8c4c7"
      },
      "outputs": [
        {
          "name": "stdout",
          "output_type": "stream",
          "text": [
            "+--------------------------------------------------------+------------------+--------------------------------------------+\n",
            "| Input Text                                             | Direction        | Translated Output                          |\n",
            "+========================================================+==================+============================================+\n",
            "| मुझे हिन्दी से अंग्रेजी में अनुवाद करना है।                            | Hindi To English | I have to translate from Hindi to English. |\n",
            "+--------------------------------------------------------+------------------+--------------------------------------------+\n",
            "| I want to translate from English to Hindi.             | English To Hindi | मैं अंग्रेजी से हिन्दी अनुवाद करना चाहता हूँ.               |\n",
            "+--------------------------------------------------------+------------------+--------------------------------------------+\n",
            "| मेरा नाम आज़ार है।                                           | Hindi To English | My name is Azar.                           |\n",
            "+--------------------------------------------------------+------------------+--------------------------------------------+\n",
            "| My name is Azar.                                       | English To Hindi | मेरा नाम इक़रारात है.                             |\n",
            "+--------------------------------------------------------+------------------+--------------------------------------------+\n",
            "| आप कैसे हैं?                                               | Hindi To English | How are you?                               |\n",
            "+--------------------------------------------------------+------------------+--------------------------------------------+\n",
            "| How are you?                                           | English To Hindi | आप कैसे हैं?                                   |\n",
            "+--------------------------------------------------------+------------------+--------------------------------------------+\n",
            "| What is your name?                                     | English To Hindi | आपका Windows Live कूटशब्द क्या है?               |\n",
            "+--------------------------------------------------------+------------------+--------------------------------------------+\n",
            "| India is Country of Many Languages and diverse culture | English To Hindi | भारत अनेक भाषाओं और विभिन्‍न संस्कृति का देश है             |\n",
            "+--------------------------------------------------------+------------------+--------------------------------------------+\n",
            "| कालबैक फोन                                                | Hindi To English | Callback phone                             |\n",
            "+--------------------------------------------------------+------------------+--------------------------------------------+\n"
          ]
        }
      ],
      "source": [
        "# Display results in a table\n",
        "print(tabulate(results, headers=\"keys\", tablefmt=\"grid\"))"
      ]
    },
    {
      "cell_type": "markdown",
      "metadata": {
        "id": "eky7_51dHGjo"
      },
      "source": [
        "#### **Checking And Evaluating Belu Accuracy**"
      ]
    },
    {
      "cell_type": "code",
      "execution_count": null,
      "metadata": {
        "id": "UBe_dAPBysQw"
      },
      "outputs": [],
      "source": [
        "import nltk\n",
        "from nltk.translate.bleu_score import sentence_bleu, SmoothingFunction"
      ]
    },
    {
      "cell_type": "code",
      "execution_count": null,
      "metadata": {
        "id": "obBkSvqXYqZs"
      },
      "outputs": [],
      "source": [
        "# Test cases with references\n",
        "test_cases_bleu = [\n",
        "    {\n",
        "        \"input\": \"मुझे हिन्दी से अंग्रेजी में अनुवाद करना है।\",\n",
        "        \"reference\": [\"I have to translate from Hindi to English.\"],\n",
        "        \"direction\": \"hindi_to_english\"\n",
        "    },\n",
        "    {\n",
        "        \"input\": \"I want to translate from English to Hindi.\",\n",
        "        \"reference\": [\"मैं अंग्रेजी से हिंदी में अनुवाद करना चाहता हूं।\"],\n",
        "        \"direction\": \"english_to_hindi\"\n",
        "    }\n",
        "]"
      ]
    },
    {
      "cell_type": "code",
      "execution_count": null,
      "metadata": {
        "id": "OyxWnuuOy7dh"
      },
      "outputs": [],
      "source": [
        "# Evaluate BLEU scores\n",
        "smoothie = SmoothingFunction().method4\n",
        "results_bleu = []\n",
        "\n",
        "for case in test_cases_bleu:\n",
        "    input_text = case[\"input\"]\n",
        "    reference = [case[\"reference\"][0].split()]\n",
        "    direction = case[\"direction\"]\n",
        "\n",
        "    # Get the model output\n",
        "    if direction == \"hindi_to_english\":\n",
        "        candidate = hindi_to_english(input_text).split()\n",
        "    elif direction == \"english_to_hindi\":\n",
        "        candidate = english_to_hindi(input_text).split()\n",
        "    else:\n",
        "        candidate = []\n",
        "\n",
        "    # Calculate BLEU score\n",
        "    bleu_score = sentence_bleu(reference, candidate, smoothing_function=smoothie)\n",
        "\n",
        "    results_bleu.append({\n",
        "        \"Input Text\": input_text,\n",
        "        \"Direction\": direction.replace(\"_\", \" \").title(),\n",
        "        \"Reference Translation\": case[\"reference\"][0],\n",
        "        \"Translated Output\": \" \".join(candidate),\n",
        "        \"BLEU Score\": round(bleu_score, 4)\n",
        "    })"
      ]
    },
    {
      "cell_type": "code",
      "execution_count": null,
      "metadata": {
        "colab": {
          "base_uri": "https://localhost:8080/"
        },
        "id": "UOqUG2izYvlt",
        "outputId": "064534a6-92a6-4c78-d5e1-ed43438c35b5"
      },
      "outputs": [
        {
          "name": "stdout",
          "output_type": "stream",
          "text": [
            "+--------------------------------------------+------------------+--------------------------------------------+--------------------------------------------+--------------+\n",
            "| Input Text                                 | Direction        | Reference Translation                      | Translated Output                          |   BLEU Score |\n",
            "+============================================+==================+============================================+============================================+==============+\n",
            "| मुझे हिन्दी से अंग्रेजी में अनुवाद करना है।                | Hindi To English | I have to translate from Hindi to English. | I have to translate from Hindi to English. |        1     |\n",
            "+--------------------------------------------+------------------+--------------------------------------------+--------------------------------------------+--------------+\n",
            "| I want to translate from English to Hindi. | English To Hindi | मैं अंग्रेजी से हिंदी में अनुवाद करना चाहता हूं।              | मैं अंग्रेजी से हिन्दी अनुवाद करना चाहता हूँ.               |        0.245 |\n",
            "+--------------------------------------------+------------------+--------------------------------------------+--------------------------------------------+--------------+\n"
          ]
        }
      ],
      "source": [
        "# Print results in table format\n",
        "from tabulate import tabulate\n",
        "print(tabulate(results_bleu, headers=\"keys\", tablefmt=\"grid\"))"
      ]
    },
    {
      "cell_type": "markdown",
      "metadata": {
        "id": "PUQxT0MQzmcz"
      },
      "source": [
        "\n",
        "\n",
        "> A BLEU score of 0 usually indicates a mismatch between the reference translation and the candidate translation being evaluated. It does not necessarily mean the translation is wrong—it may still be accurate but phrased differently. BLEU relies on n-gram overlap, so differences in phrasing can lead to low scores.\n",
        "\n"
      ]
    },
    {
      "cell_type": "code",
      "execution_count": null,
      "metadata": {
        "id": "ZaPI7BCSzQHS"
      },
      "outputs": [],
      "source": [
        "# Test cases with references\n",
        "test_cases_bleu = [\n",
        "    {\n",
        "        \"input\": \"मुझे हिन्दी से अंग्रेजी में अनुवाद करना है।\",\n",
        "        \"reference\": [\"I have to translate from Hindi to English.\"],\n",
        "        \"direction\": \"hindi_to_english\"\n",
        "    },\n",
        "    {\n",
        "        \"input\": \"I want to translate from English to Hindi.\",\n",
        "        \"reference\": [\"मैं अंग्रेजी से हिंदी में अनुवाद करना चाहता हूं।\"],\n",
        "        \"direction\": \"english_to_hindi\"\n",
        "    },\n",
        "    {\n",
        "        \"input\": \"मेरा नाम आज़ार है।\",\n",
        "        \"reference\": [\"My name is Azar.\"],\n",
        "        \"direction\": \"hindi_to_english\"\n",
        "    },\n",
        "    {\n",
        "        \"input\": \"My name is Azar.\",\n",
        "        \"reference\": [\"मेरा नाम अज़ार है।\"],\n",
        "        \"direction\": \"english_to_hindi\"\n",
        "    },\n",
        "    {\n",
        "        \"input\":\"आपका दिन कैसा है?\",\n",
        "        \"reference\":[\"How is your day?\"],\n",
        "        \"direction\": \"hindi_to_english\"\n",
        "    },\n",
        "    {\n",
        "        \"input\": \"I am going to ground\",\n",
        "        \"reference\":[\"मैं ज़मीन पर जा रहा हूँ\"],\n",
        "        \"direction\": \"english_to_hindi\"\n",
        "    },\n",
        "    {\n",
        "        \"input\": \"I love reading books.\",\n",
        "        \"reference\": [\"मुझे किताबें पढ़ना पसंद हैं।\"],\n",
        "        \"direction\": \"english_to_hindi\"\n",
        "    },\n",
        "    {\n",
        "        \"input\":\"It was good\",\n",
        "        \"reference\": [\"यह अच्छा था\"],\n",
        "        \"direction\": \"english_to_hindi\"\n",
        "    },\n",
        "    {\n",
        "        \"input\": \"यहाँ बहुत अच्छा मौसम है।\",\n",
        "        \"reference\": [\"The weather is very nice here.\"],\n",
        "        \"direction\": \"hindi_to_english\"\n",
        "    },\n",
        "    {\n",
        "        \"input\": \"The cat is sleeping on the sofa.\",\n",
        "        \"reference\": [\"बिल्ली सोफे पर सो रही है।\"],\n",
        "        \"direction\": \"english_to_hindi\"\n",
        "    },\n",
        "    {\n",
        "        \"input\": \"क्या आप मेरी मदद कर सकते हैं?\",\n",
        "        \"reference\": [\"Can you help me?\"],\n",
        "        \"direction\": \"hindi_to_english\"\n",
        "    },\n",
        "    {\n",
        "        \"input\": \"I am learning Hindi.\",\n",
        "        \"reference\": [\"मैं हिंदी सीख रहा हूं।\"],\n",
        "        \"direction\": \"english_to_hindi\"\n",
        "    },\n",
        "    {\n",
        "        \"input\": \"आपका दिन कैसा है? मुझे उम्मीद है कि यह अच्छा है।\",\n",
        "        \"reference\": [\"How is your day? I hope it's good.\"],\n",
        "        \"direction\": \"hindi_to_english\"\n",
        "    },\n",
        "    {\n",
        "        \"input\": \"यहाँ बहुत अच्छा मौसम है। मुझे यहाँ रहना पसंद है।\",\n",
        "        \"reference\": [\"The weather is very nice here. I like it here.\"],\n",
        "        \"direction\": \"hindi_to_english\"\n",
        "    },\n",
        "    {\n",
        "        \"input\": \"क्या आप मेरी मदद कर सकते हैं? मुझे थोड़ी सहायता चाहिए।\",\n",
        "        \"reference\": [\"Can you help me? I need a little assistance.\"],\n",
        "        \"direction\": \"hindi_to_english\"\n",
        "    },\n",
        "    {\n",
        "        \"input\": \"I am learning Hindi.\",\n",
        "        \"reference\": [\"मैं हिंदी सीख रहा हूँ।\"],\n",
        "        \"direction\": \"english_to_hindi\"\n",
        "    },\n",
        "    {\n",
        "        \"input\": \"मैं हिंदी सीख रहा हूँ।.\",\n",
        "        \"reference\": [\"I am learning Hindi.\"],\n",
        "        \"direction\": \"hindi_to_english\"\n",
        "    }\n",
        "]"
      ]
    },
    {
      "cell_type": "code",
      "execution_count": null,
      "metadata": {
        "id": "5wtVFfSrZXbH"
      },
      "outputs": [],
      "source": [
        "# Function to calculate BLEU and prepare results\n",
        "def evaluate_and_visualize_bleu(test_cases):\n",
        "    smoothie = SmoothingFunction().method4\n",
        "    results_bleu = []\n",
        "\n",
        "    for case in test_cases:\n",
        "        input_text = case[\"input\"]\n",
        "        reference = [case[\"reference\"][0].split()]\n",
        "        direction = case[\"direction\"]\n",
        "\n",
        "        # Get model output\n",
        "        if direction == \"hindi_to_english\":\n",
        "            candidate = hindi_to_english(input_text).split()\n",
        "        elif direction == \"english_to_hindi\":\n",
        "            candidate = english_to_hindi(input_text).split()\n",
        "        else:\n",
        "            candidate = []\n",
        "\n",
        "        # Calculate BLEU score\n",
        "        bleu_score = sentence_bleu(reference, candidate, smoothing_function=smoothie)\n",
        "\n",
        "        results_bleu.append({\n",
        "            \"Input Text\": input_text,\n",
        "            \"Direction\": direction.replace(\"_\", \" \").title(),\n",
        "            \"Reference Translation\": case[\"reference\"][0],\n",
        "            \"Translated Output\": \" \".join(candidate),\n",
        "            \"BLEU Score\": round(bleu_score, 4)\n",
        "        })\n",
        "\n",
        "    return results_bleu"
      ]
    },
    {
      "cell_type": "code",
      "execution_count": null,
      "metadata": {
        "id": "owr2C-Vcz9Lt"
      },
      "outputs": [],
      "source": [
        "# Run evaluation\n",
        "results_bleu = evaluate_and_visualize_bleu(test_cases_bleu)"
      ]
    },
    {
      "cell_type": "code",
      "execution_count": null,
      "metadata": {
        "colab": {
          "base_uri": "https://localhost:8080/"
        },
        "id": "qawlb34cZeSP",
        "outputId": "b1f01f9c-ee7a-4704-e326-42d5df7a581b"
      },
      "outputs": [
        {
          "name": "stdout",
          "output_type": "stream",
          "text": [
            "+--------------------------------------------+------------------+------------------------------------------------+------------------------------------------------+--------------+\n",
            "| Input Text                                 | Direction        | Reference Translation                          | Translated Output                              |   BLEU Score |\n",
            "+============================================+==================+================================================+================================================+==============+\n",
            "| मुझे हिन्दी से अंग्रेजी में अनुवाद करना है।                | Hindi To English | I have to translate from Hindi to English.     | I have to translate from Hindi to English.     |       1      |\n",
            "+--------------------------------------------+------------------+------------------------------------------------+------------------------------------------------+--------------+\n",
            "| I want to translate from English to Hindi. | English To Hindi | मैं अंग्रेजी से हिंदी में अनुवाद करना चाहता हूं।                  | मैं अंग्रेजी से हिन्दी अनुवाद करना चाहता हूँ.                   |       0.245  |\n",
            "+--------------------------------------------+------------------+------------------------------------------------+------------------------------------------------+--------------+\n",
            "| मेरा नाम आज़ार है।                               | Hindi To English | My name is Azar.                               | My name is Azar.                               |       1      |\n",
            "+--------------------------------------------+------------------+------------------------------------------------+------------------------------------------------+--------------+\n",
            "| My name is Azar.                           | English To Hindi | मेरा नाम अज़ार है।                                   | मेरा नाम इक़रारात है.                                 |       0.1682 |\n",
            "+--------------------------------------------+------------------+------------------------------------------------+------------------------------------------------+--------------+\n",
            "| आपका दिन कैसा है?                               | Hindi To English | How is your day?                               | How's your day going?                          |       0.061  |\n",
            "+--------------------------------------------+------------------+------------------------------------------------+------------------------------------------------+--------------+\n",
            "| I am going to ground                       | English To Hindi | मैं ज़मीन पर जा रहा हूँ                                | मैं जमीन पर जा रहा हूँ                                |       0.5373 |\n",
            "+--------------------------------------------+------------------+------------------------------------------------+------------------------------------------------+--------------+\n",
            "| I love reading books.                      | English To Hindi | मुझे किताबें पढ़ना पसंद हैं।                              | मैं किताबों को पढ़ने के लिए प्यार करता हूँ.                    |       0      |\n",
            "+--------------------------------------------+------------------+------------------------------------------------+------------------------------------------------+--------------+\n",
            "| It was good                                | English To Hindi | यह अच्छा था                                       | यह अच्छा था                                       |       0.5757 |\n",
            "+--------------------------------------------+------------------+------------------------------------------------+------------------------------------------------+--------------+\n",
            "| यहाँ बहुत अच्छा मौसम है।                          | Hindi To English | The weather is very nice here.                 | The weather is very nice here.                 |       1      |\n",
            "+--------------------------------------------+------------------+------------------------------------------------+------------------------------------------------+--------------+\n",
            "| The cat is sleeping on the sofa.           | English To Hindi | बिल्ली सोफे पर सो रही है।                              | बिल्ली बिस्तर पर सो रहा है.                            |       0.1075 |\n",
            "+--------------------------------------------+------------------+------------------------------------------------+------------------------------------------------+--------------+\n",
            "| क्या आप मेरी मदद कर सकते हैं?                     | Hindi To English | Can you help me?                               | Can you help me?                               |       1      |\n",
            "+--------------------------------------------+------------------+------------------------------------------------+------------------------------------------------+--------------+\n",
            "| I am learning Hindi.                       | English To Hindi | मैं हिंदी सीख रहा हूं।                                  | मैं हिन्दी सीख रहा हूँ.                                 |       0.1341 |\n",
            "+--------------------------------------------+------------------+------------------------------------------------+------------------------------------------------+--------------+\n",
            "| आपका दिन कैसा है? मुझे उम्मीद है कि यह अच्छा है।         | Hindi To English | How is your day? I hope it's good.             | How's your day going? I hope it's good.        |       0.3656 |\n",
            "+--------------------------------------------+------------------+------------------------------------------------+------------------------------------------------+--------------+\n",
            "| यहाँ बहुत अच्छा मौसम है। मुझे यहाँ रहना पसंद है।         | Hindi To English | The weather is very nice here. I like it here. | The weather is great here. I love living here. |       0.1702 |\n",
            "+--------------------------------------------+------------------+------------------------------------------------+------------------------------------------------+--------------+\n",
            "| क्या आप मेरी मदद कर सकते हैं? मुझे थोड़ी सहायता चाहिए।     | Hindi To English | Can you help me? I need a little assistance.   | Can you help me? I need a little help.         |       0.8633 |\n",
            "+--------------------------------------------+------------------+------------------------------------------------+------------------------------------------------+--------------+\n",
            "| I am learning Hindi.                       | English To Hindi | मैं हिंदी सीख रहा हूँ।                                  | मैं हिन्दी सीख रहा हूँ.                                 |       0.1341 |\n",
            "+--------------------------------------------+------------------+------------------------------------------------+------------------------------------------------+--------------+\n",
            "| मैं हिंदी सीख रहा हूँ।.                             | Hindi To English | I am learning Hindi.                           | I am learning Hindi.                           |       1      |\n",
            "+--------------------------------------------+------------------+------------------------------------------------+------------------------------------------------+--------------+\n"
          ]
        }
      ],
      "source": [
        "# Display results in a table\n",
        "print(tabulate(results_bleu, headers=\"keys\", tablefmt=\"grid\"))"
      ]
    },
    {
      "cell_type": "markdown",
      "source": [
        "#### **Evolution Using Bleu , rouge_score , Ter , meteor score**"
      ],
      "metadata": {
        "id": "zBcag3rEqgVS"
      }
    },
    {
      "cell_type": "code",
      "execution_count": null,
      "metadata": {
        "id": "icpPPsoisZDi"
      },
      "outputs": [],
      "source": [
        "from nltk.translate.bleu_score import sentence_bleu, SmoothingFunction\n",
        "from tabulate import tabulate\n",
        "from rouge_score import rouge_scorer\n",
        "from nltk.translate.meteor_score import meteor_score\n",
        "from sacrebleu.metrics import TER\n",
        "\n",
        "# Define the calculate_rouge function\n",
        "def calculate_rouge(ref_tokens, cand_tokens):\n",
        "    scorer = rouge_scorer.RougeScorer(['rouge1', 'rougeL'], use_stemmer=True)\n",
        "    scores = scorer.score(' '.join(ref_tokens), ' '.join(cand_tokens))\n",
        "    return {\n",
        "        \"ROUGE-1\": round(scores['rouge1'].fmeasure, 4),\n",
        "        \"ROUGE-L\": round(scores['rougeL'].fmeasure, 4)\n",
        "    }\n",
        "\n",
        "\n",
        "# Define the calculate_meteor function\n",
        "def calculate_meteor(ref_tokens, cand_tokens):\n",
        "    return round(meteor_score([ref_tokens], cand_tokens), 4)\n",
        "\n",
        "\n",
        "# Define the calculate_ter function\n",
        "def calculate_ter(ref_tokens, cand_tokens):\n",
        "    # Change: Join the candidate tokens to form a single string.\n",
        "    cand_string = ' '.join(cand_tokens)\n",
        "    # Pass the candidate string and a list containing the reference string to corpus_score.\n",
        "    return round(TER().corpus_score([cand_string], [[' '.join(ref_tokens)]]).score, 4)\n"
      ]
    },
    {
      "cell_type": "code",
      "execution_count": null,
      "metadata": {
        "id": "YZnzTyNCymou"
      },
      "outputs": [],
      "source": [
        "def evaluate_metrics(reference, candidate):\n",
        "    # Tokenize reference and candidate\n",
        "    ref_tokens = reference.split()\n",
        "    cand_tokens = candidate.split()\n",
        "\n",
        "    # BLEU Score\n",
        "    smoothie = SmoothingFunction().method4\n",
        "    bleu = round(sentence_bleu([ref_tokens], cand_tokens, smoothing_function=smoothie), 4)\n",
        "\n",
        "    # ROUGE\n",
        "    rouge = calculate_rouge(ref_tokens, cand_tokens)\n",
        "\n",
        "    # METEOR\n",
        "    meteor = calculate_meteor(ref_tokens, cand_tokens)\n",
        "\n",
        "    # TER\n",
        "    ter = calculate_ter(ref_tokens, cand_tokens)\n",
        "\n",
        "    # Combine all metrics\n",
        "    return {\n",
        "        \"BLEU\": bleu,\n",
        "        **rouge,\n",
        "        \"METEOR\": meteor,\n",
        "        \"TER\": ter\n",
        "    }\n"
      ]
    },
    {
      "cell_type": "code",
      "execution_count": null,
      "metadata": {
        "id": "LqnybuTsyq2_"
      },
      "outputs": [],
      "source": [
        "# Example: Evaluate translations\n",
        "test_cases_metrics = [\n",
        "    {\n",
        "        \"input\": \"मुझे हिन्दी से अंग्रेजी में अनुवाद करना है।\",\n",
        "        \"reference\": \"I have to translate from Hindi to English.\",\n",
        "        \"direction\": \"hindi_to_english\",\n",
        "        \"candidate\": hindi_to_english(\"मुझे हिन्दी से अंग्रेजी में अनुवाद करना है।\")\n",
        "    },\n",
        "    {\n",
        "        \"input\": \"I want to translate from English to Hindi.\",\n",
        "        \"reference\": \"मैं अंग्रेजी से हिंदी में अनुवाद करना चाहता हूं।\",\n",
        "        \"direction\": \"english_to_hindi\",\n",
        "        \"candidate\": english_to_hindi(\"I want to translate from English to Hindi.\")\n",
        "    }\n",
        "]\n"
      ]
    },
    {
      "cell_type": "code",
      "execution_count": null,
      "metadata": {
        "id": "hEeDibydx5Lw"
      },
      "outputs": [],
      "source": [
        "# Compute metrics for each case\n",
        "results_metrics = []\n",
        "for case in test_cases_metrics:\n",
        "    metrics = evaluate_metrics(case[\"reference\"], case[\"candidate\"])\n",
        "    results_metrics.append({\n",
        "        \"Input Text\": case[\"input\"],\n",
        "        \"Direction\": case[\"direction\"].replace(\"_\", \" \").title(),\n",
        "        \"Reference\": case[\"reference\"],\n",
        "        \"Candidate\": case[\"candidate\"],\n",
        "        **metrics\n",
        "    })\n"
      ]
    },
    {
      "cell_type": "code",
      "execution_count": null,
      "metadata": {
        "colab": {
          "base_uri": "https://localhost:8080/"
        },
        "id": "9XbavveiywCx",
        "outputId": "46cab2dd-3f9c-4175-a0b1-19e784542159"
      },
      "outputs": [
        {
          "name": "stdout",
          "output_type": "stream",
          "text": [
            "+--------------------------------------------+------------------+--------------------------------------------+--------------------------------------------+--------+-----------+-----------+----------+---------+\n",
            "| Input Text                                 | Direction        | Reference                                  | Candidate                                  |   BLEU |   ROUGE-1 |   ROUGE-L |   METEOR |     TER |\n",
            "+============================================+==================+============================================+============================================+========+===========+===========+==========+=========+\n",
            "| मुझे हिन्दी से अंग्रेजी में अनुवाद करना है।                | Hindi To English | I have to translate from Hindi to English. | I have to translate from Hindi to English. |  1     |         1 |         1 |   0.999  |  0      |\n",
            "+--------------------------------------------+------------------+--------------------------------------------+--------------------------------------------+--------+-----------+-----------+----------+---------+\n",
            "| I want to translate from English to Hindi. | English To Hindi | मैं अंग्रेजी से हिंदी में अनुवाद करना चाहता हूं।              | मैं अंग्रेजी से हिन्दी अनुवाद करना चाहता हूँ.               |  0.245 |         0 |         0 |   0.6617 | 33.3333 |\n",
            "+--------------------------------------------+------------------+--------------------------------------------+--------------------------------------------+--------+-----------+-----------+----------+---------+\n"
          ]
        }
      ],
      "source": [
        "# Display results\n",
        "print(tabulate(results_metrics, headers=\"keys\", tablefmt=\"grid\"))"
      ]
    },
    {
      "cell_type": "markdown",
      "source": [
        "#### **Visualizing the Matrics**"
      ],
      "metadata": {
        "id": "NgMnpZc1qwqv"
      }
    },
    {
      "cell_type": "code",
      "execution_count": null,
      "metadata": {
        "colab": {
          "base_uri": "https://localhost:8080/",
          "height": 607
        },
        "id": "ACrJ4MqGzWG8",
        "outputId": "1f6274f2-be90-44f0-ec92-7afea15dd00c"
      },
      "outputs": [
        {
          "data": {
            "image/png": "[encoded data removed]",
            "text/plain": [
              "<Figure size 1000x600 with 1 Axes>"
            ]
          },
          "metadata": {},
          "output_type": "display_data"
        }
      ],
      "source": [
        "import matplotlib.pyplot as plt\n",
        "import numpy as np\n",
        "\n",
        "# Example data from the table\n",
        "metrics = ['BLEU', 'ROUGE-1', 'ROUGE-L', 'METEOR', 'TER']\n",
        "scores_case_1 = [1.0, 1.0, 1.0, 0.999, 0.0]  # Perfect translation\n",
        "scores_case_2 = [0.245, 0.0, 0.0, 0.6617, 33.33]  # Mismatched translation\n",
        "\n",
        "# Prepare data for plotting\n",
        "x = np.arange(len(metrics))  # The label locations\n",
        "width = 0.35  # The width of the bars\n",
        "\n",
        "fig, ax = plt.subplots(figsize=(10, 6))\n",
        "\n",
        "# Create bars for each case\n",
        "rects1 = ax.bar(x - width/2, scores_case_1, width, label='Case 1: Hindi to English')\n",
        "rects2 = ax.bar(x + width/2, scores_case_2, width, label='Case 2: English to Hindi')\n",
        "\n",
        "# Add some text for labels, title and custom x-axis tick labels\n",
        "ax.set_xlabel('Metrics')\n",
        "ax.set_title('Translation Evaluation Metrics Comparison')\n",
        "ax.set_xticks(x)\n",
        "ax.set_xticklabels(metrics)\n",
        "ax.legend()\n",
        "\n",
        "# Add the numeric labels above the bars\n",
        "def add_labels(rects):\n",
        "    for rect in rects:\n",
        "        height = rect.get_height()\n",
        "        ax.annotate(f'{height:.2f}',\n",
        "                    xy=(rect.get_x() + rect.get_width() / 2, height),\n",
        "                    xytext=(0, 3),  # 3 points vertical offset\n",
        "                    textcoords=\"offset points\",\n",
        "                    ha='center', va='bottom')\n",
        "\n",
        "add_labels(rects1)\n",
        "add_labels(rects2)\n",
        "\n",
        "fig.tight_layout()\n",
        "\n",
        "# Show plot\n",
        "plt.show()\n"
      ]
    },
    {
      "cell_type": "code",
      "execution_count": null,
      "metadata": {
        "id": "nvtQwLmSOvZa"
      },
      "outputs": [],
      "source": []
    }
  ],
  "metadata": {
    "colab": {
      "provenance": [],
      "include_colab_link": true
    },
    "kernelspec": {
      "display_name": "Python 3",
      "name": "python3"
    },
    "language_info": {
      "name": "python"
    }
  },
  "nbformat": 4,
  "nbformat_minor": 0
}