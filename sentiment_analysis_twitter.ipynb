{
  "nbformat": 4,
  "nbformat_minor": 0,
  "metadata": {
    "colab": {
      "provenance": [],
      "authorship_tag": "ABX9TyPY+KS7IWeiLFUa3uj/kXuj",
      "include_colab_link": true
    },
    "kernelspec": {
      "name": "python3",
      "display_name": "Python 3"
    },
    "language_info": {
      "name": "python"
    }
  },
  "cells": [
    {
      "cell_type": "markdown",
      "metadata": {
        "id": "view-in-github",
        "colab_type": "text"
      },
      "source": [
        "<a href=\"https://colab.research.google.com/github/Nukaraju2003/Natural-Language-Processing/blob/main/sentiment_analysis_twitter.ipynb\" target=\"_parent\"><img src=\"https://colab.research.google.com/assets/colab-badge.svg\" alt=\"Open In Colab\"/></a>"
      ]
    },
    {
      "cell_type": "code",
      "execution_count": null,
      "metadata": {
        "id": "_1MTfyDmHa8T"
      },
      "outputs": [],
      "source": [
        "# from textblob import TextBlob"
      ]
    },
    {
      "cell_type": "code",
      "source": [
        "# Feedback1 = \"The food at Radison was awesome\"\n",
        "# Feedback2 = \"The food at Radison was very good\"\n",
        "# blob1 = TextBlob(Feedback1)\n",
        "# blob2 = TextBlob(Feedback2)\n",
        "# print(blob1.sentiment)\n",
        "# print(blob2.sentiment)"
      ],
      "metadata": {
        "id": "0IxtDJMlHm9c"
      },
      "execution_count": null,
      "outputs": []
    },
    {
      "cell_type": "markdown",
      "source": [],
      "metadata": {
        "id": "_0isnsVBdcI_"
      }
    },
    {
      "cell_type": "markdown",
      "source": [
        "#### https://youtu.be/27P268Q7pE0"
      ],
      "metadata": {
        "id": "19NbCYSJLvrw"
      }
    },
    {
      "cell_type": "code",
      "source": [
        "!pip install tweepy --ignore-installed\n",
        "!pip install flair"
      ],
      "metadata": {
        "id": "Xr62nwxBWBph"
      },
      "execution_count": null,
      "outputs": []
    },
    {
      "cell_type": "code",
      "source": [
        "import tweepy\n",
        "from textblob import TextBlob\n",
        "consumer_key = 'hDsUrqAGsaw71TdaBFRKI3fCl'\n",
        "consumer_secret = 'N5YP0bPc1tnikRx3fz54bKyF0aCrnF2N6v4cl4y93pFlYNDhfM'\n",
        "access_token = '1493212715526983680-ODRXU2kiAuKHuwfxuTxsOJMnxBZtWe'\n",
        "access_token_secret = 'VI5dSGOZrRbwxSPlNtlfxplTiCWUP4MdIeli6kRFLRSqE'\n",
        "\n",
        "# Creating the authentication object\n",
        "# auth = tweepy.OAuthHandler(consumer_key, consumer_secret)\n",
        "\n",
        "# Setting your access token and secret\n",
        "# auth.set_access_token(access_token, access_token_secret)\n",
        "\n",
        "# Creating the API object while passing in auth-information\n",
        "# api = tweepy.API(auth, wait_on_rate_limit= True)\n",
        "\n",
        "# public_tweets = api.search_tweets('Donald Trump')\n",
        "\n",
        "# extract 100 tweets from the twitter user\n",
        "# posts = api.user_timeline(screen_name = \"BillGates\", count= 100, lang =\"en\", tweet_mode=\"extended\")\n",
        "\n",
        "# print the last 5 tweets from the account\n",
        "# print(\"Show the 5 recent tweets: \\n\")\n",
        "# for tweet in posts[0:5]:\n",
        "#   print(tweet.full_text + '\\n')\n",
        "\n",
        "# for tweet in public_tweets:\n",
        "#     print(tweet.text)\n",
        "#     analysis = TextBlob(tweet.text)\n",
        "#     print(analysis.sentiment)"
      ],
      "metadata": {
        "id": "JvtNDTEgHqJT"
      },
      "execution_count": null,
      "outputs": []
    },
    {
      "cell_type": "markdown",
      "source": [
        "###Twitter Sentiment Analysis Using Python https://youtu.be/ujId4ipkBio\n",
        "### Realtime Twitter Sentiment Analysis using pretrained Model (NLP)|Python https://youtu.be/26ZSHmUoBeM\n",
        "### Sentiment Analyis on Twitter Data by Using CNN Network and Long short Time Memory https://youtu.be/IE-zpwkYlBc\n",
        "### Sentiment analysis using vader https://youtu.be/Alu_cCXNS-k\n",
        "### NLP Hybrid Model Demo in Python with code https://youtu.be/_EyF_O8zuGY\n",
        "### Sentiment Analysis with Transformer Models and a Twist of Psychology\n",
        "https://youtu.be/sZOV5pD4ELg "
      ],
      "metadata": {
        "id": "53P_eoF3MWyR"
      }
    },
    {
      "cell_type": "code",
      "source": [],
      "metadata": {
        "id": "tYUru1unxSXU"
      },
      "execution_count": null,
      "outputs": []
    },
    {
      "cell_type": "markdown",
      "source": [
        "## Import Modules"
      ],
      "metadata": {
        "id": "n7yJlDarkPk3"
      }
    },
    {
      "cell_type": "code",
      "source": [
        "import tweepy\n",
        "import re\n",
        "import time\n",
        "\n",
        "from flair.models import TextClassifier\n",
        "from flair.data import Sentence"
      ],
      "metadata": {
        "id": "xnPt4V4wH3p6"
      },
      "execution_count": null,
      "outputs": []
    },
    {
      "cell_type": "code",
      "source": [
        "# initialize tweepy\n",
        "api = tweepy.Client( consumer_key, consumer_secret, access_token, access_token_secret)\n",
        "api.get_me()"
      ],
      "metadata": {
        "colab": {
          "base_uri": "https://localhost:8080/",
          "height": 363
        },
        "id": "zBMg4hXokWGB",
        "outputId": "e377dec4-06e1-4116-a98f-d854232bea35"
      },
      "execution_count": null,
      "outputs": [
        {
          "output_type": "error",
          "ename": "Unauthorized",
          "evalue": "ignored",
          "traceback": [
            "\u001b[0;31m---------------------------------------------------------------------------\u001b[0m",
            "\u001b[0;31mUnauthorized\u001b[0m                              Traceback (most recent call last)",
            "\u001b[0;32m<ipython-input-14-f4f90899ccaf>\u001b[0m in \u001b[0;36m<module>\u001b[0;34m\u001b[0m\n\u001b[1;32m      1\u001b[0m \u001b[0;31m# initialize tweepy\u001b[0m\u001b[0;34m\u001b[0m\u001b[0;34m\u001b[0m\u001b[0;34m\u001b[0m\u001b[0m\n\u001b[1;32m      2\u001b[0m \u001b[0mapi\u001b[0m \u001b[0;34m=\u001b[0m \u001b[0mtweepy\u001b[0m\u001b[0;34m.\u001b[0m\u001b[0mClient\u001b[0m\u001b[0;34m(\u001b[0m \u001b[0mconsumer_key\u001b[0m\u001b[0;34m,\u001b[0m \u001b[0mconsumer_secret\u001b[0m\u001b[0;34m,\u001b[0m \u001b[0maccess_token\u001b[0m\u001b[0;34m,\u001b[0m \u001b[0maccess_token_secret\u001b[0m\u001b[0;34m)\u001b[0m\u001b[0;34m\u001b[0m\u001b[0;34m\u001b[0m\u001b[0m\n\u001b[0;32m----> 3\u001b[0;31m \u001b[0mapi\u001b[0m\u001b[0;34m.\u001b[0m\u001b[0mget_me\u001b[0m\u001b[0;34m(\u001b[0m\u001b[0;34m)\u001b[0m\u001b[0;34m\u001b[0m\u001b[0;34m\u001b[0m\u001b[0m\n\u001b[0m",
            "\u001b[0;32m/usr/local/lib/python3.8/dist-packages/tweepy/client.py\u001b[0m in \u001b[0;36mget_me\u001b[0;34m(self, user_auth, **params)\u001b[0m\n\u001b[1;32m   2533\u001b[0m         \u001b[0mhttps\u001b[0m\u001b[0;34m:\u001b[0m\u001b[0;34m//\u001b[0m\u001b[0mdeveloper\u001b[0m\u001b[0;34m.\u001b[0m\u001b[0mtwitter\u001b[0m\u001b[0;34m.\u001b[0m\u001b[0mcom\u001b[0m\u001b[0;34m/\u001b[0m\u001b[0men\u001b[0m\u001b[0;34m/\u001b[0m\u001b[0mdocs\u001b[0m\u001b[0;34m/\u001b[0m\u001b[0mtwitter\u001b[0m\u001b[0;34m-\u001b[0m\u001b[0mapi\u001b[0m\u001b[0;34m/\u001b[0m\u001b[0musers\u001b[0m\u001b[0;34m/\u001b[0m\u001b[0mlookup\u001b[0m\u001b[0;34m/\u001b[0m\u001b[0mapi\u001b[0m\u001b[0;34m-\u001b[0m\u001b[0mreference\u001b[0m\u001b[0;34m/\u001b[0m\u001b[0mget\u001b[0m\u001b[0;34m-\u001b[0m\u001b[0musers\u001b[0m\u001b[0;34m-\u001b[0m\u001b[0mme\u001b[0m\u001b[0;34m\u001b[0m\u001b[0;34m\u001b[0m\u001b[0m\n\u001b[1;32m   2534\u001b[0m         \"\"\"\n\u001b[0;32m-> 2535\u001b[0;31m         return self._make_request(\n\u001b[0m\u001b[1;32m   2536\u001b[0m             \u001b[0;34m\"GET\"\u001b[0m\u001b[0;34m,\u001b[0m \u001b[0;34mf\"/2/users/me\"\u001b[0m\u001b[0;34m,\u001b[0m \u001b[0mparams\u001b[0m\u001b[0;34m=\u001b[0m\u001b[0mparams\u001b[0m\u001b[0;34m,\u001b[0m\u001b[0;34m\u001b[0m\u001b[0;34m\u001b[0m\u001b[0m\n\u001b[1;32m   2537\u001b[0m             \u001b[0mendpoint_parameters\u001b[0m\u001b[0;34m=\u001b[0m\u001b[0;34m(\u001b[0m\u001b[0;34m\"expansions\"\u001b[0m\u001b[0;34m,\u001b[0m \u001b[0;34m\"tweet.fields\"\u001b[0m\u001b[0;34m,\u001b[0m \u001b[0;34m\"user.fields\"\u001b[0m\u001b[0;34m)\u001b[0m\u001b[0;34m,\u001b[0m\u001b[0;34m\u001b[0m\u001b[0;34m\u001b[0m\u001b[0m\n",
            "\u001b[0;32m/usr/local/lib/python3.8/dist-packages/tweepy/client.py\u001b[0m in \u001b[0;36m_make_request\u001b[0;34m(self, method, route, params, endpoint_parameters, json, data_type, user_auth)\u001b[0m\n\u001b[1;32m    127\u001b[0m         \u001b[0mrequest_params\u001b[0m \u001b[0;34m=\u001b[0m \u001b[0mself\u001b[0m\u001b[0;34m.\u001b[0m\u001b[0m_process_params\u001b[0m\u001b[0;34m(\u001b[0m\u001b[0mparams\u001b[0m\u001b[0;34m,\u001b[0m \u001b[0mendpoint_parameters\u001b[0m\u001b[0;34m)\u001b[0m\u001b[0;34m\u001b[0m\u001b[0;34m\u001b[0m\u001b[0m\n\u001b[1;32m    128\u001b[0m \u001b[0;34m\u001b[0m\u001b[0m\n\u001b[0;32m--> 129\u001b[0;31m         response = self.request(method, route, params=request_params,\n\u001b[0m\u001b[1;32m    130\u001b[0m                                 json=json, user_auth=user_auth)\n\u001b[1;32m    131\u001b[0m \u001b[0;34m\u001b[0m\u001b[0m\n",
            "\u001b[0;32m/usr/local/lib/python3.8/dist-packages/tweepy/client.py\u001b[0m in \u001b[0;36mrequest\u001b[0;34m(self, method, route, params, json, user_auth)\u001b[0m\n\u001b[1;32m     96\u001b[0m                 \u001b[0;32mraise\u001b[0m \u001b[0mBadRequest\u001b[0m\u001b[0;34m(\u001b[0m\u001b[0mresponse\u001b[0m\u001b[0;34m)\u001b[0m\u001b[0;34m\u001b[0m\u001b[0;34m\u001b[0m\u001b[0m\n\u001b[1;32m     97\u001b[0m             \u001b[0;32mif\u001b[0m \u001b[0mresponse\u001b[0m\u001b[0;34m.\u001b[0m\u001b[0mstatus_code\u001b[0m \u001b[0;34m==\u001b[0m \u001b[0;36m401\u001b[0m\u001b[0;34m:\u001b[0m\u001b[0;34m\u001b[0m\u001b[0;34m\u001b[0m\u001b[0m\n\u001b[0;32m---> 98\u001b[0;31m                 \u001b[0;32mraise\u001b[0m \u001b[0mUnauthorized\u001b[0m\u001b[0;34m(\u001b[0m\u001b[0mresponse\u001b[0m\u001b[0;34m)\u001b[0m\u001b[0;34m\u001b[0m\u001b[0;34m\u001b[0m\u001b[0m\n\u001b[0m\u001b[1;32m     99\u001b[0m             \u001b[0;32mif\u001b[0m \u001b[0mresponse\u001b[0m\u001b[0;34m.\u001b[0m\u001b[0mstatus_code\u001b[0m \u001b[0;34m==\u001b[0m \u001b[0;36m403\u001b[0m\u001b[0;34m:\u001b[0m\u001b[0;34m\u001b[0m\u001b[0;34m\u001b[0m\u001b[0m\n\u001b[1;32m    100\u001b[0m                 \u001b[0;32mraise\u001b[0m \u001b[0mForbidden\u001b[0m\u001b[0;34m(\u001b[0m\u001b[0mresponse\u001b[0m\u001b[0;34m)\u001b[0m\u001b[0;34m\u001b[0m\u001b[0;34m\u001b[0m\u001b[0m\n",
            "\u001b[0;31mUnauthorized\u001b[0m: 401 Unauthorized\nUnauthorized"
          ]
        }
      ]
    }
  ]
}