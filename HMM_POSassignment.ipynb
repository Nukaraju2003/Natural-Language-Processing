{
  "nbformat": 4,
  "nbformat_minor": 0,
  "metadata": {
    "colab": {
      "provenance": [],
      "include_colab_link": true
    },
    "kernelspec": {
      "name": "python3",
      "display_name": "Python 3"
    },
    "language_info": {
      "name": "python"
    },
    "widgets": {
      "application/vnd.jupyter.widget-state+json": {
        "f2a491b754e74df8846f8f997d3fda2b": {
          "model_module": "@jupyter-widgets/controls",
          "model_name": "HBoxModel",
          "model_module_version": "1.5.0",
          "state": {
            "_dom_classes": [],
            "_model_module": "@jupyter-widgets/controls",
            "_model_module_version": "1.5.0",
            "_model_name": "HBoxModel",
            "_view_count": null,
            "_view_module": "@jupyter-widgets/controls",
            "_view_module_version": "1.5.0",
            "_view_name": "HBoxView",
            "box_style": "",
            "children": [
              "IPY_MODEL_ea8ce2af60454d7ea5615c68db219160",
              "IPY_MODEL_6d948bbc231a41e8abd7efd964682e8b",
              "IPY_MODEL_7a66a5fa62a2460a934f1631076364f8"
            ],
            "layout": "IPY_MODEL_37e1e9cfd8594fef8adced5f551dbb7f"
          }
        },
        "ea8ce2af60454d7ea5615c68db219160": {
          "model_module": "@jupyter-widgets/controls",
          "model_name": "HTMLModel",
          "model_module_version": "1.5.0",
          "state": {
            "_dom_classes": [],
            "_model_module": "@jupyter-widgets/controls",
            "_model_module_version": "1.5.0",
            "_model_name": "HTMLModel",
            "_view_count": null,
            "_view_module": "@jupyter-widgets/controls",
            "_view_module_version": "1.5.0",
            "_view_name": "HTMLView",
            "description": "",
            "description_tooltip": null,
            "layout": "IPY_MODEL_2697b082d20948a2a479ec1a98b38bf1",
            "placeholder": "​",
            "style": "IPY_MODEL_b12911beff7b46c2b1e1949e7184885e",
            "value": "100%"
          }
        },
        "6d948bbc231a41e8abd7efd964682e8b": {
          "model_module": "@jupyter-widgets/controls",
          "model_name": "FloatProgressModel",
          "model_module_version": "1.5.0",
          "state": {
            "_dom_classes": [],
            "_model_module": "@jupyter-widgets/controls",
            "_model_module_version": "1.5.0",
            "_model_name": "FloatProgressModel",
            "_view_count": null,
            "_view_module": "@jupyter-widgets/controls",
            "_view_module_version": "1.5.0",
            "_view_name": "ProgressView",
            "bar_style": "success",
            "description": "",
            "description_tooltip": null,
            "layout": "IPY_MODEL_b6aac5f9a7e64dfcaf090992fb57e500",
            "max": 2000,
            "min": 0,
            "orientation": "horizontal",
            "style": "IPY_MODEL_6b511adda953490aa451222c311b6d04",
            "value": 2000
          }
        },
        "7a66a5fa62a2460a934f1631076364f8": {
          "model_module": "@jupyter-widgets/controls",
          "model_name": "HTMLModel",
          "model_module_version": "1.5.0",
          "state": {
            "_dom_classes": [],
            "_model_module": "@jupyter-widgets/controls",
            "_model_module_version": "1.5.0",
            "_model_name": "HTMLModel",
            "_view_count": null,
            "_view_module": "@jupyter-widgets/controls",
            "_view_module_version": "1.5.0",
            "_view_name": "HTMLView",
            "description": "",
            "description_tooltip": null,
            "layout": "IPY_MODEL_e0e70ac54cdb48078cba9a2e3d0a09ae",
            "placeholder": "​",
            "style": "IPY_MODEL_2a3b9c6ca3534260abb795ff4695b127",
            "value": " 2000/2000 [00:30&lt;00:00, 97.61it/s]"
          }
        },
        "37e1e9cfd8594fef8adced5f551dbb7f": {
          "model_module": "@jupyter-widgets/base",
          "model_name": "LayoutModel",
          "model_module_version": "1.2.0",
          "state": {
            "_model_module": "@jupyter-widgets/base",
            "_model_module_version": "1.2.0",
            "_model_name": "LayoutModel",
            "_view_count": null,
            "_view_module": "@jupyter-widgets/base",
            "_view_module_version": "1.2.0",
            "_view_name": "LayoutView",
            "align_content": null,
            "align_items": null,
            "align_self": null,
            "border": null,
            "bottom": null,
            "display": null,
            "flex": null,
            "flex_flow": null,
            "grid_area": null,
            "grid_auto_columns": null,
            "grid_auto_flow": null,
            "grid_auto_rows": null,
            "grid_column": null,
            "grid_gap": null,
            "grid_row": null,
            "grid_template_areas": null,
            "grid_template_columns": null,
            "grid_template_rows": null,
            "height": null,
            "justify_content": null,
            "justify_items": null,
            "left": null,
            "margin": null,
            "max_height": null,
            "max_width": null,
            "min_height": null,
            "min_width": null,
            "object_fit": null,
            "object_position": null,
            "order": null,
            "overflow": null,
            "overflow_x": null,
            "overflow_y": null,
            "padding": null,
            "right": null,
            "top": null,
            "visibility": null,
            "width": null
          }
        },
        "2697b082d20948a2a479ec1a98b38bf1": {
          "model_module": "@jupyter-widgets/base",
          "model_name": "LayoutModel",
          "model_module_version": "1.2.0",
          "state": {
            "_model_module": "@jupyter-widgets/base",
            "_model_module_version": "1.2.0",
            "_model_name": "LayoutModel",
            "_view_count": null,
            "_view_module": "@jupyter-widgets/base",
            "_view_module_version": "1.2.0",
            "_view_name": "LayoutView",
            "align_content": null,
            "align_items": null,
            "align_self": null,
            "border": null,
            "bottom": null,
            "display": null,
            "flex": null,
            "flex_flow": null,
            "grid_area": null,
            "grid_auto_columns": null,
            "grid_auto_flow": null,
            "grid_auto_rows": null,
            "grid_column": null,
            "grid_gap": null,
            "grid_row": null,
            "grid_template_areas": null,
            "grid_template_columns": null,
            "grid_template_rows": null,
            "height": null,
            "justify_content": null,
            "justify_items": null,
            "left": null,
            "margin": null,
            "max_height": null,
            "max_width": null,
            "min_height": null,
            "min_width": null,
            "object_fit": null,
            "object_position": null,
            "order": null,
            "overflow": null,
            "overflow_x": null,
            "overflow_y": null,
            "padding": null,
            "right": null,
            "top": null,
            "visibility": null,
            "width": null
          }
        },
        "b12911beff7b46c2b1e1949e7184885e": {
          "model_module": "@jupyter-widgets/controls",
          "model_name": "DescriptionStyleModel",
          "model_module_version": "1.5.0",
          "state": {
            "_model_module": "@jupyter-widgets/controls",
            "_model_module_version": "1.5.0",
            "_model_name": "DescriptionStyleModel",
            "_view_count": null,
            "_view_module": "@jupyter-widgets/base",
            "_view_module_version": "1.2.0",
            "_view_name": "StyleView",
            "description_width": ""
          }
        },
        "b6aac5f9a7e64dfcaf090992fb57e500": {
          "model_module": "@jupyter-widgets/base",
          "model_name": "LayoutModel",
          "model_module_version": "1.2.0",
          "state": {
            "_model_module": "@jupyter-widgets/base",
            "_model_module_version": "1.2.0",
            "_model_name": "LayoutModel",
            "_view_count": null,
            "_view_module": "@jupyter-widgets/base",
            "_view_module_version": "1.2.0",
            "_view_name": "LayoutView",
            "align_content": null,
            "align_items": null,
            "align_self": null,
            "border": null,
            "bottom": null,
            "display": null,
            "flex": null,
            "flex_flow": null,
            "grid_area": null,
            "grid_auto_columns": null,
            "grid_auto_flow": null,
            "grid_auto_rows": null,
            "grid_column": null,
            "grid_gap": null,
            "grid_row": null,
            "grid_template_areas": null,
            "grid_template_columns": null,
            "grid_template_rows": null,
            "height": null,
            "justify_content": null,
            "justify_items": null,
            "left": null,
            "margin": null,
            "max_height": null,
            "max_width": null,
            "min_height": null,
            "min_width": null,
            "object_fit": null,
            "object_position": null,
            "order": null,
            "overflow": null,
            "overflow_x": null,
            "overflow_y": null,
            "padding": null,
            "right": null,
            "top": null,
            "visibility": null,
            "width": null
          }
        },
        "6b511adda953490aa451222c311b6d04": {
          "model_module": "@jupyter-widgets/controls",
          "model_name": "ProgressStyleModel",
          "model_module_version": "1.5.0",
          "state": {
            "_model_module": "@jupyter-widgets/controls",
            "_model_module_version": "1.5.0",
            "_model_name": "ProgressStyleModel",
            "_view_count": null,
            "_view_module": "@jupyter-widgets/base",
            "_view_module_version": "1.2.0",
            "_view_name": "StyleView",
            "bar_color": null,
            "description_width": ""
          }
        },
        "e0e70ac54cdb48078cba9a2e3d0a09ae": {
          "model_module": "@jupyter-widgets/base",
          "model_name": "LayoutModel",
          "model_module_version": "1.2.0",
          "state": {
            "_model_module": "@jupyter-widgets/base",
            "_model_module_version": "1.2.0",
            "_model_name": "LayoutModel",
            "_view_count": null,
            "_view_module": "@jupyter-widgets/base",
            "_view_module_version": "1.2.0",
            "_view_name": "LayoutView",
            "align_content": null,
            "align_items": null,
            "align_self": null,
            "border": null,
            "bottom": null,
            "display": null,
            "flex": null,
            "flex_flow": null,
            "grid_area": null,
            "grid_auto_columns": null,
            "grid_auto_flow": null,
            "grid_auto_rows": null,
            "grid_column": null,
            "grid_gap": null,
            "grid_row": null,
            "grid_template_areas": null,
            "grid_template_columns": null,
            "grid_template_rows": null,
            "height": null,
            "justify_content": null,
            "justify_items": null,
            "left": null,
            "margin": null,
            "max_height": null,
            "max_width": null,
            "min_height": null,
            "min_width": null,
            "object_fit": null,
            "object_position": null,
            "order": null,
            "overflow": null,
            "overflow_x": null,
            "overflow_y": null,
            "padding": null,
            "right": null,
            "top": null,
            "visibility": null,
            "width": null
          }
        },
        "2a3b9c6ca3534260abb795ff4695b127": {
          "model_module": "@jupyter-widgets/controls",
          "model_name": "DescriptionStyleModel",
          "model_module_version": "1.5.0",
          "state": {
            "_model_module": "@jupyter-widgets/controls",
            "_model_module_version": "1.5.0",
            "_model_name": "DescriptionStyleModel",
            "_view_count": null,
            "_view_module": "@jupyter-widgets/base",
            "_view_module_version": "1.2.0",
            "_view_name": "StyleView",
            "description_width": ""
          }
        },
        "28182832d2e544e49f29beb99d787689": {
          "model_module": "@jupyter-widgets/controls",
          "model_name": "HBoxModel",
          "model_module_version": "1.5.0",
          "state": {
            "_dom_classes": [],
            "_model_module": "@jupyter-widgets/controls",
            "_model_module_version": "1.5.0",
            "_model_name": "HBoxModel",
            "_view_count": null,
            "_view_module": "@jupyter-widgets/controls",
            "_view_module_version": "1.5.0",
            "_view_name": "HBoxView",
            "box_style": "",
            "children": [
              "IPY_MODEL_ae13b7ef85994dd4ae888c0648ab3b1e",
              "IPY_MODEL_1c7785dc526f43c29b35008f51c6708e",
              "IPY_MODEL_2a25cb499a2f4473913c47a6630712fc"
            ],
            "layout": "IPY_MODEL_758e18c54db14d35bcda017a350adf36"
          }
        },
        "ae13b7ef85994dd4ae888c0648ab3b1e": {
          "model_module": "@jupyter-widgets/controls",
          "model_name": "HTMLModel",
          "model_module_version": "1.5.0",
          "state": {
            "_dom_classes": [],
            "_model_module": "@jupyter-widgets/controls",
            "_model_module_version": "1.5.0",
            "_model_name": "HTMLModel",
            "_view_count": null,
            "_view_module": "@jupyter-widgets/controls",
            "_view_module_version": "1.5.0",
            "_view_name": "HTMLView",
            "description": "",
            "description_tooltip": null,
            "layout": "IPY_MODEL_5adb3559b4614834a7e7248d73426834",
            "placeholder": "​",
            "style": "IPY_MODEL_1d2a2b71c56b4ba3a3c75b811697e14b",
            "value": "100%"
          }
        },
        "1c7785dc526f43c29b35008f51c6708e": {
          "model_module": "@jupyter-widgets/controls",
          "model_name": "FloatProgressModel",
          "model_module_version": "1.5.0",
          "state": {
            "_dom_classes": [],
            "_model_module": "@jupyter-widgets/controls",
            "_model_module_version": "1.5.0",
            "_model_name": "FloatProgressModel",
            "_view_count": null,
            "_view_module": "@jupyter-widgets/controls",
            "_view_module_version": "1.5.0",
            "_view_name": "ProgressView",
            "bar_style": "success",
            "description": "",
            "description_tooltip": null,
            "layout": "IPY_MODEL_7f2f1c2fd24f4318a7c06c6239a0dced",
            "max": 2000,
            "min": 0,
            "orientation": "horizontal",
            "style": "IPY_MODEL_6e3da6b5b6894658803bb524a172eeda",
            "value": 2000
          }
        },
        "2a25cb499a2f4473913c47a6630712fc": {
          "model_module": "@jupyter-widgets/controls",
          "model_name": "HTMLModel",
          "model_module_version": "1.5.0",
          "state": {
            "_dom_classes": [],
            "_model_module": "@jupyter-widgets/controls",
            "_model_module_version": "1.5.0",
            "_model_name": "HTMLModel",
            "_view_count": null,
            "_view_module": "@jupyter-widgets/controls",
            "_view_module_version": "1.5.0",
            "_view_name": "HTMLView",
            "description": "",
            "description_tooltip": null,
            "layout": "IPY_MODEL_e7e5c8b971684a7a88aafb25e4db8089",
            "placeholder": "​",
            "style": "IPY_MODEL_0389f46fcaa64fcba54179a266854def",
            "value": " 2000/2000 [00:06&lt;00:00, 312.33it/s]"
          }
        },
        "758e18c54db14d35bcda017a350adf36": {
          "model_module": "@jupyter-widgets/base",
          "model_name": "LayoutModel",
          "model_module_version": "1.2.0",
          "state": {
            "_model_module": "@jupyter-widgets/base",
            "_model_module_version": "1.2.0",
            "_model_name": "LayoutModel",
            "_view_count": null,
            "_view_module": "@jupyter-widgets/base",
            "_view_module_version": "1.2.0",
            "_view_name": "LayoutView",
            "align_content": null,
            "align_items": null,
            "align_self": null,
            "border": null,
            "bottom": null,
            "display": null,
            "flex": null,
            "flex_flow": null,
            "grid_area": null,
            "grid_auto_columns": null,
            "grid_auto_flow": null,
            "grid_auto_rows": null,
            "grid_column": null,
            "grid_gap": null,
            "grid_row": null,
            "grid_template_areas": null,
            "grid_template_columns": null,
            "grid_template_rows": null,
            "height": null,
            "justify_content": null,
            "justify_items": null,
            "left": null,
            "margin": null,
            "max_height": null,
            "max_width": null,
            "min_height": null,
            "min_width": null,
            "object_fit": null,
            "object_position": null,
            "order": null,
            "overflow": null,
            "overflow_x": null,
            "overflow_y": null,
            "padding": null,
            "right": null,
            "top": null,
            "visibility": null,
            "width": null
          }
        },
        "5adb3559b4614834a7e7248d73426834": {
          "model_module": "@jupyter-widgets/base",
          "model_name": "LayoutModel",
          "model_module_version": "1.2.0",
          "state": {
            "_model_module": "@jupyter-widgets/base",
            "_model_module_version": "1.2.0",
            "_model_name": "LayoutModel",
            "_view_count": null,
            "_view_module": "@jupyter-widgets/base",
            "_view_module_version": "1.2.0",
            "_view_name": "LayoutView",
            "align_content": null,
            "align_items": null,
            "align_self": null,
            "border": null,
            "bottom": null,
            "display": null,
            "flex": null,
            "flex_flow": null,
            "grid_area": null,
            "grid_auto_columns": null,
            "grid_auto_flow": null,
            "grid_auto_rows": null,
            "grid_column": null,
            "grid_gap": null,
            "grid_row": null,
            "grid_template_areas": null,
            "grid_template_columns": null,
            "grid_template_rows": null,
            "height": null,
            "justify_content": null,
            "justify_items": null,
            "left": null,
            "margin": null,
            "max_height": null,
            "max_width": null,
            "min_height": null,
            "min_width": null,
            "object_fit": null,
            "object_position": null,
            "order": null,
            "overflow": null,
            "overflow_x": null,
            "overflow_y": null,
            "padding": null,
            "right": null,
            "top": null,
            "visibility": null,
            "width": null
          }
        },
        "1d2a2b71c56b4ba3a3c75b811697e14b": {
          "model_module": "@jupyter-widgets/controls",
          "model_name": "DescriptionStyleModel",
          "model_module_version": "1.5.0",
          "state": {
            "_model_module": "@jupyter-widgets/controls",
            "_model_module_version": "1.5.0",
            "_model_name": "DescriptionStyleModel",
            "_view_count": null,
            "_view_module": "@jupyter-widgets/base",
            "_view_module_version": "1.2.0",
            "_view_name": "StyleView",
            "description_width": ""
          }
        },
        "7f2f1c2fd24f4318a7c06c6239a0dced": {
          "model_module": "@jupyter-widgets/base",
          "model_name": "LayoutModel",
          "model_module_version": "1.2.0",
          "state": {
            "_model_module": "@jupyter-widgets/base",
            "_model_module_version": "1.2.0",
            "_model_name": "LayoutModel",
            "_view_count": null,
            "_view_module": "@jupyter-widgets/base",
            "_view_module_version": "1.2.0",
            "_view_name": "LayoutView",
            "align_content": null,
            "align_items": null,
            "align_self": null,
            "border": null,
            "bottom": null,
            "display": null,
            "flex": null,
            "flex_flow": null,
            "grid_area": null,
            "grid_auto_columns": null,
            "grid_auto_flow": null,
            "grid_auto_rows": null,
            "grid_column": null,
            "grid_gap": null,
            "grid_row": null,
            "grid_template_areas": null,
            "grid_template_columns": null,
            "grid_template_rows": null,
            "height": null,
            "justify_content": null,
            "justify_items": null,
            "left": null,
            "margin": null,
            "max_height": null,
            "max_width": null,
            "min_height": null,
            "min_width": null,
            "object_fit": null,
            "object_position": null,
            "order": null,
            "overflow": null,
            "overflow_x": null,
            "overflow_y": null,
            "padding": null,
            "right": null,
            "top": null,
            "visibility": null,
            "width": null
          }
        },
        "6e3da6b5b6894658803bb524a172eeda": {
          "model_module": "@jupyter-widgets/controls",
          "model_name": "ProgressStyleModel",
          "model_module_version": "1.5.0",
          "state": {
            "_model_module": "@jupyter-widgets/controls",
            "_model_module_version": "1.5.0",
            "_model_name": "ProgressStyleModel",
            "_view_count": null,
            "_view_module": "@jupyter-widgets/base",
            "_view_module_version": "1.2.0",
            "_view_name": "StyleView",
            "bar_color": null,
            "description_width": ""
          }
        },
        "e7e5c8b971684a7a88aafb25e4db8089": {
          "model_module": "@jupyter-widgets/base",
          "model_name": "LayoutModel",
          "model_module_version": "1.2.0",
          "state": {
            "_model_module": "@jupyter-widgets/base",
            "_model_module_version": "1.2.0",
            "_model_name": "LayoutModel",
            "_view_count": null,
            "_view_module": "@jupyter-widgets/base",
            "_view_module_version": "1.2.0",
            "_view_name": "LayoutView",
            "align_content": null,
            "align_items": null,
            "align_self": null,
            "border": null,
            "bottom": null,
            "display": null,
            "flex": null,
            "flex_flow": null,
            "grid_area": null,
            "grid_auto_columns": null,
            "grid_auto_flow": null,
            "grid_auto_rows": null,
            "grid_column": null,
            "grid_gap": null,
            "grid_row": null,
            "grid_template_areas": null,
            "grid_template_columns": null,
            "grid_template_rows": null,
            "height": null,
            "justify_content": null,
            "justify_items": null,
            "left": null,
            "margin": null,
            "max_height": null,
            "max_width": null,
            "min_height": null,
            "min_width": null,
            "object_fit": null,
            "object_position": null,
            "order": null,
            "overflow": null,
            "overflow_x": null,
            "overflow_y": null,
            "padding": null,
            "right": null,
            "top": null,
            "visibility": null,
            "width": null
          }
        },
        "0389f46fcaa64fcba54179a266854def": {
          "model_module": "@jupyter-widgets/controls",
          "model_name": "DescriptionStyleModel",
          "model_module_version": "1.5.0",
          "state": {
            "_model_module": "@jupyter-widgets/controls",
            "_model_module_version": "1.5.0",
            "_model_name": "DescriptionStyleModel",
            "_view_count": null,
            "_view_module": "@jupyter-widgets/base",
            "_view_module_version": "1.2.0",
            "_view_name": "StyleView",
            "description_width": ""
          }
        }
      }
    }
  },
  "cells": [
    {
      "cell_type": "markdown",
      "metadata": {
        "id": "view-in-github",
        "colab_type": "text"
      },
      "source": [
        "<a href=\"https://colab.research.google.com/github/Nukaraju2003/Natural-Language-Processing/blob/main/HMM_POSassignment.ipynb\" target=\"_parent\"><img src=\"https://colab.research.google.com/assets/colab-badge.svg\" alt=\"Open In Colab\"/></a>"
      ]
    },
    {
      "cell_type": "markdown",
      "source": [
        "# HMM POS Classifier\n",
        "\n",
        "In this notebook we shall implement the POS tagger using HMM method. \n",
        "\n",
        "Check the [video description](https://youtu.be/tEebcmTxvWc)\n",
        "\n",
        "The datset can be downloaded from:\n",
        "* [Training Data](https://drive.google.com/file/d/1Bsw4BxpW98gK3vOJNdwcAKQ-8WO38CtR/view?usp=sharing)\n",
        "* [Testing Data](https://drive.google.com/file/d/1ZzkigI6TFGVCbAXuPmyx4lekf3WoZkq_/view?usp=sharing)\n",
        "\n",
        "Carefully observe and learn the implementation. We shall implement both vectorised and the regular one. See the performance boost in the vectorised version.\n",
        "\n"
      ],
      "metadata": {
        "id": "3b_UERwA5oND"
      }
    },
    {
      "cell_type": "code",
      "source": [
        "def read_data(fname):\n",
        "    exemplars = []\n",
        "    file = open(fname, 'r');\n",
        "    for line in file:\n",
        "        data = tuple([w.lower() for w in line.split()])\n",
        "        exemplars += [ (data[0::2], data[1::2]), ]\n",
        "\n",
        "    return exemplars"
      ],
      "metadata": {
        "id": "iH_4uybif4_K"
      },
      "execution_count": null,
      "outputs": []
    },
    {
      "cell_type": "code",
      "source": [
        "import math\n",
        "_NINF_LOG = -300\n",
        "_NINF = float('-1e300')\n",
        "class Probdist:\n",
        "  def __init__(self, freqdist, gamma=0.5, bins=None):\n",
        "    self._gamma = gamma\n",
        "    self._freqdist = freqdist\n",
        "    n = sum(freqdist.values())\n",
        "    self._bins = len(freqdist) if bins is None else bins\n",
        "    self._divisor = n + self._bins*self._gamma\n",
        "\n",
        "  def prob(self, sample):\n",
        "    c = self._freqdist.get(sample, 0) + self._gamma\n",
        "    return c/self._divisor\n",
        "\n",
        "  def logprob(self, sample):\n",
        "    p = self.prob(sample)\n",
        "    return math.log(p, 2) if p!=0 else _NINF_LOG\n",
        "\n",
        "  def samples(self):\n",
        "    return list(self._freqdist.keys())"
      ],
      "metadata": {
        "id": "8lz4NpxbqR-y"
      },
      "execution_count": null,
      "outputs": []
    },
    {
      "cell_type": "code",
      "source": [
        "train_set = read_data('bc.train')"
      ],
      "metadata": {
        "id": "PvzL6gR4gsuQ"
      },
      "execution_count": null,
      "outputs": []
    },
    {
      "cell_type": "code",
      "source": [
        "test_set = read_data('bc.test')"
      ],
      "metadata": {
        "id": "wdLWPmSYgwNp"
      },
      "execution_count": null,
      "outputs": []
    },
    {
      "cell_type": "code",
      "source": [
        "example = test_set[0]"
      ],
      "metadata": {
        "id": "jj0rBYGnC-Xx"
      },
      "execution_count": null,
      "outputs": []
    },
    {
      "cell_type": "code",
      "source": [
        "list(zip(example[0], example[1]))"
      ],
      "metadata": {
        "colab": {
          "base_uri": "https://localhost:8080/"
        },
        "id": "bhuVZuSyD0Wr",
        "outputId": "5464254c-d29e-4310-fbb3-b0aeb7b1c470"
      },
      "execution_count": null,
      "outputs": [
        {
          "output_type": "execute_result",
          "data": {
            "text/plain": [
              "[('at', 'adp'),\n",
              " ('the', 'det'),\n",
              " ('same', 'adj'),\n",
              " ('instant', 'noun'),\n",
              " (',', '.'),\n",
              " ('nick', 'noun'),\n",
              " ('hit', 'verb'),\n",
              " ('the', 'det'),\n",
              " ('barrel', 'noun'),\n",
              " ('and', 'conj'),\n",
              " ('threw', 'verb'),\n",
              " ('himself', 'pron'),\n",
              " ('upon', 'adp'),\n",
              " ('the', 'det'),\n",
              " ('smaller', 'adj'),\n",
              " ('man', 'noun'),\n",
              " ('.', '.')]"
            ]
          },
          "metadata": {},
          "execution_count": 6
        }
      ]
    },
    {
      "cell_type": "markdown",
      "source": [
        "## POS Tagging\n",
        "\n",
        "Given data where each word in corpus has a corresponding POS tag, you can have features as the word itself and labels as the POS tag. Now you can consider unigram, bigram, trigram etc. You need to think of whether to simplify the word, tokenize each word etc."
      ],
      "metadata": {
        "id": "r22LkzAu2PHk"
      }
    },
    {
      "cell_type": "code",
      "source": [
        "START = \"START\" # a fixed start state for a sentence\n",
        "END = \"END\" # a fioxed end state for a sentence\n",
        "import numpy as np\n",
        "class HMMClassifier:\n",
        "  def __init__(self):\n",
        "    self.S = {START, END} # set of states\n",
        "    self.O = set() # set of observations\n",
        "    self.E = {} # emission counts\n",
        "    self.T = {} # tranistions counts\n",
        "\n",
        "  def _add_training_example(self, example):\n",
        "    # get counts for emissions and transitions\n",
        "    prev_state = START\n",
        "\n",
        "    for o, s in list(zip(example[0], example[1])):\n",
        "      self.S.add(s) # append the observed state to set of states\n",
        "      self.O.add(o) # append the observed emission to set of observations\n",
        "\n",
        "      self.E[s,o] = self.E.get((s,o), 0) + 1 # set emission counts\n",
        "      self.T[prev_state, s] = self.T.get((prev_state, s), 0)+1\n",
        "      prev_state = s\n",
        "\n",
        "    self.T[prev_state, END] = self.T.get((prev_state, END), 0)+1\n",
        "\n",
        "  def train(self, dataset):\n",
        "    for example in dataset:\n",
        "      self._add_training_example(example)\n",
        "\n",
        "    # Now turn the counts into probability distributions of logprobs\n",
        "    self.pE = Probdist(self.E, gamma=0)\n",
        "    self.pT = Probdist(self.T, gamma=0)\n",
        "    self.states = list(self.S)\n",
        "    m = len(self.states)\n",
        "    \n",
        "    self.transitions = np.zeros(m*m).reshape(m,m)\n",
        "    # record transitions to state i from any state\n",
        "    for i in range(m):\n",
        "      for j in range(m):\n",
        "        self.transitions[i][j] = self.pT.logprob((self.states[i], self.states[j]))\n",
        "\n",
        "    # record emissions from state i to any observation\n",
        "    # alongside we must have a dict to map observation to index\n",
        "    # and state to its index\n",
        "    n = len(self.O)\n",
        "    self.emissions = (np.ones(m*n)*_NINF_LOG).reshape(m,n)\n",
        "    self.state_idx = {s:i for i,s in enumerate(self.states)}\n",
        "    self.obs_idx = {o:i for i,o in enumerate(self.O)}\n",
        "    for k,v in self.pE.samples():\n",
        "      i = self.state_idx[k]\n",
        "      j = self.obs_idx[v]\n",
        "      self.emissions[i][j] = self.pE.logprob((k,v))\n",
        "\n",
        "  def fit(self, observations):\n",
        "    \"\"\"\n",
        "    given array of observations determine the best possible state transitions\n",
        "    that led to those observations. This will implement Viterbi algorithm\n",
        "    find S1,S2....Sn that emits O1,O2...On such that pS1*pS2...pSn is maximized\n",
        "\n",
        "    V[i][j] = maximum probability for considering i observations given it\n",
        "    reached state j at i_th observation\n",
        "    \n",
        "    V[i][j] = max(V[i-1]) + transition_prob[Sj-1,Sj]*Emission_prob[Sj to Oj]\n",
        "\n",
        "    this translates to\n",
        "    MAX(V[i-1][0 to n as k] + transition_prob[Sk,Sj]*Emission_prob[Sj to Oj])\n",
        "    \n",
        "    We need to do sum of logprobs instead\n",
        "    \"\"\"\n",
        "\n",
        "    m = len(self.states) # do we need to remove start and end as they are initial and final states!!\n",
        "    n = len(observations) # 2 for start and end\n",
        "\n",
        "    viterbi_prob = np.zeros(m*n).reshape(m,n) # store max probs\n",
        "    viterbi_path = np.zeros(m*n).reshape(m,n) # store paths for max probs\n",
        "\n",
        "    # initialize the first state\n",
        "    for i in range(m):\n",
        "      viterbi_prob[i][0] = self.pE.logprob((self.states[i], observations[0])) + self.pT.logprob((START, self.states[i]))\n",
        "\n",
        "    # now calculate rest of the viterbi matrix\n",
        "    for i in range(1,n):\n",
        "      for j in range(m):\n",
        "        c = [viterbi_prob[k][i-1] + \\\n",
        "             self.pT.logprob((self.states[k], self.states[j])) + \\\n",
        "             self.pE.logprob((self.states[j], observations[i])) for k in range(m)]\n",
        "        viterbi_prob[j][i] = np.max(c)\n",
        "        viterbi_path[j][i] = np.argmax(c)\n",
        "\n",
        "    #done now we can emit the path in reverse direction\n",
        "    prediction = np.zeros(n+1, dtype=np.int32) # important the data type\n",
        "    # the final state is the one that gave max prob when moving\n",
        "    # to the end state\n",
        "    prediction[n] = np.argmax( \\\n",
        "        [viterbi_prob[m-1][n-1] + self.pT.logprob((self.states[j], END)) for j in range(m)])\n",
        "    \n",
        "    for i in range(n-1,0, -1):\n",
        "      prediction[i] = viterbi_path[prediction[i+1]][i]\n",
        "\n",
        "    return [self.states[prediction[i+1]] for i in range(n)]\n",
        "\n",
        "  \"\"\"\n",
        "  Let us not try to vectorise viterbi implementation to make it faster\n",
        "  \"\"\"\n",
        "  def npfit(self, observations):\n",
        "    m = len(self.states)\n",
        "    n = len(observations)\n",
        "\n",
        "    viterbi_prob = np.zeros(m*n).reshape(m,n)\n",
        "    viterbi_path = np.zeros(m*n).reshape(m,n)\n",
        "\n",
        "    # initialize the first state\n",
        "    infar = np.ones(m)*_NINF_LOG\n",
        "\n",
        "\n",
        "    # initialize first column to be emission of the first observaton\n",
        "    # from that state, if observation is in training data\n",
        "    # else Negative Infinity\n",
        "    viterbi_prob[:,0] = (self.emissions[:,self.obs_idx[observations[0]]] \\\n",
        "                         if observations[0] in self.obs_idx \\\n",
        "                         else np.ones(m)*_NINF_LOG) \\\n",
        "                         + self.transitions[self.state_idx[START],:]\n",
        "\n",
        "    # now calculate rest of the viterbi matrix\n",
        "    for i in range(1,n):\n",
        "      for j in range(m):\n",
        "        c = viterbi_prob[:,i-1] + self.transitions[:,j]\n",
        "        if observations[i] in self.obs_idx:\n",
        "          c += self.emissions[j][self.obs_idx[observations[i]]]\n",
        "        else:\n",
        "          c += infar\n",
        "        \n",
        "        viterbi_prob[j][i] = np.max(c)\n",
        "        viterbi_path[j][i] = np.argmax(c)\n",
        "\n",
        "    #done now we can emit the path in reverse direction\n",
        "    prediction = np.zeros(n+1, dtype=np.int32) # important the data type\n",
        "    \n",
        "    # the final state is the one that gave max prob when moving\n",
        "    # to the end state\n",
        "    prediction[n] = np.argmax(viterbi_prob[:,n-1] + self.transitions[:,self.state_idx[END]])\n",
        "    \n",
        "    for i in range(n-1,0, -1):\n",
        "      prediction[i] = viterbi_path[prediction[i+1]][i]\n",
        "\n",
        "    return [self.states[prediction[i+1]] for i in range(n)]"
      ],
      "metadata": {
        "id": "tIRwT11RK_m6"
      },
      "execution_count": null,
      "outputs": []
    },
    {
      "cell_type": "code",
      "source": [
        "hmm = HMMClassifier()"
      ],
      "metadata": {
        "id": "r0UDEkxmhPpQ"
      },
      "execution_count": null,
      "outputs": []
    },
    {
      "cell_type": "code",
      "source": [
        "hmm.train(train_set)"
      ],
      "metadata": {
        "id": "B1Y5Yi4ulmHY"
      },
      "execution_count": null,
      "outputs": []
    },
    {
      "cell_type": "code",
      "source": [
        "prediction = hmm.fit(test_set[0][0])"
      ],
      "metadata": {
        "id": "KCi6XkcqRUw5"
      },
      "execution_count": null,
      "outputs": []
    },
    {
      "cell_type": "code",
      "source": [
        "prediction"
      ],
      "metadata": {
        "colab": {
          "base_uri": "https://localhost:8080/"
        },
        "id": "GK02wwd8RWa-",
        "outputId": "7da4c375-31b4-4178-fc1e-31d69be4c3e6"
      },
      "execution_count": null,
      "outputs": [
        {
          "output_type": "execute_result",
          "data": {
            "text/plain": [
              "['adp',\n",
              " 'det',\n",
              " 'adj',\n",
              " 'noun',\n",
              " '.',\n",
              " 'noun',\n",
              " 'verb',\n",
              " 'det',\n",
              " 'noun',\n",
              " 'conj',\n",
              " 'verb',\n",
              " 'pron',\n",
              " 'adp',\n",
              " 'det',\n",
              " 'adj',\n",
              " 'noun',\n",
              " '.']"
            ]
          },
          "metadata": {},
          "execution_count": 25
        }
      ]
    },
    {
      "cell_type": "code",
      "source": [
        "# test using the fit method\n",
        "from tqdm.notebook import tqdm\n",
        "from timeit import default_timer as timer\n",
        "st = timer()\n",
        "accuracy = 0\n",
        "for i in tqdm(range(len(test_set))):\n",
        "  prediction = hmm.fit(test_set[i][0])\n",
        "  correct = [x[0]==x[1] for x in zip(prediction, test_set[i][1])]\n",
        "  accuracy += sum(correct)/len(test_set[i][1])\n",
        "print(accuracy/len(test_set))\n",
        "en = timer()\n",
        "print(en - st)"
      ],
      "metadata": {
        "colab": {
          "base_uri": "https://localhost:8080/",
          "height": 85,
          "referenced_widgets": [
            "f2a491b754e74df8846f8f997d3fda2b",
            "ea8ce2af60454d7ea5615c68db219160",
            "6d948bbc231a41e8abd7efd964682e8b",
            "7a66a5fa62a2460a934f1631076364f8",
            "37e1e9cfd8594fef8adced5f551dbb7f",
            "2697b082d20948a2a479ec1a98b38bf1",
            "b12911beff7b46c2b1e1949e7184885e",
            "b6aac5f9a7e64dfcaf090992fb57e500",
            "6b511adda953490aa451222c311b6d04",
            "e0e70ac54cdb48078cba9a2e3d0a09ae",
            "2a3b9c6ca3534260abb795ff4695b127"
          ]
        },
        "id": "OE76zBlWltkY",
        "outputId": "1082d199-3dbf-430b-bad5-1f729be7fc48"
      },
      "execution_count": null,
      "outputs": [
        {
          "output_type": "display_data",
          "data": {
            "text/plain": [
              "  0%|          | 0/2000 [00:00<?, ?it/s]"
            ],
            "application/vnd.jupyter.widget-view+json": {
              "version_major": 2,
              "version_minor": 0,
              "model_id": "f2a491b754e74df8846f8f997d3fda2b"
            }
          },
          "metadata": {}
        },
        {
          "output_type": "stream",
          "name": "stdout",
          "text": [
            "0.930611672501294\n",
            "30.476854848000016\n"
          ]
        }
      ]
    },
    {
      "cell_type": "code",
      "source": [
        "# test using the faster npfit method\n",
        "from tqdm.notebook import tqdm\n",
        "from timeit import default_timer as timer\n",
        "st = timer()\n",
        "accuracy = 0\n",
        "for i in tqdm(range(len(test_set))):\n",
        "  prediction = hmm.npfit(test_set[i][0])\n",
        "  correct = [x[0]==x[1] for x in zip(prediction, test_set[i][1])]\n",
        "  accuracy += sum(correct)/len(test_set[i][1])\n",
        "print(accuracy/len(test_set))\n",
        "en = timer()\n",
        "print(en - st)"
      ],
      "metadata": {
        "id": "Mjqp_0AnDbpI",
        "colab": {
          "base_uri": "https://localhost:8080/",
          "height": 85,
          "referenced_widgets": [
            "28182832d2e544e49f29beb99d787689",
            "ae13b7ef85994dd4ae888c0648ab3b1e",
            "1c7785dc526f43c29b35008f51c6708e",
            "2a25cb499a2f4473913c47a6630712fc",
            "758e18c54db14d35bcda017a350adf36",
            "5adb3559b4614834a7e7248d73426834",
            "1d2a2b71c56b4ba3a3c75b811697e14b",
            "7f2f1c2fd24f4318a7c06c6239a0dced",
            "6e3da6b5b6894658803bb524a172eeda",
            "e7e5c8b971684a7a88aafb25e4db8089",
            "0389f46fcaa64fcba54179a266854def"
          ]
        },
        "outputId": "7b6ce5f9-9b4e-474a-946d-eeb0957b0a5c"
      },
      "execution_count": null,
      "outputs": [
        {
          "output_type": "display_data",
          "data": {
            "text/plain": [
              "  0%|          | 0/2000 [00:00<?, ?it/s]"
            ],
            "application/vnd.jupyter.widget-view+json": {
              "version_major": 2,
              "version_minor": 0,
              "model_id": "28182832d2e544e49f29beb99d787689"
            }
          },
          "metadata": {}
        },
        {
          "output_type": "stream",
          "name": "stdout",
          "text": [
            "0.9316165983352638\n",
            "6.78700901000002\n"
          ]
        }
      ]
    },
    {
      "cell_type": "code",
      "source": [],
      "metadata": {
        "id": "txBNqGPPukio"
      },
      "execution_count": null,
      "outputs": []
    }
  ]
}