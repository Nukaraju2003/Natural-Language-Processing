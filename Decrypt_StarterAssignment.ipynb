{
  "nbformat": 4,
  "nbformat_minor": 0,
  "metadata": {
    "colab": {
      "provenance": [],
      "include_colab_link": true
    },
    "kernelspec": {
      "name": "python3",
      "display_name": "Python 3"
    },
    "language_info": {
      "name": "python"
    }
  },
  "cells": [
    {
      "cell_type": "markdown",
      "metadata": {
        "id": "view-in-github",
        "colab_type": "text"
      },
      "source": [
        "<a href=\"https://colab.research.google.com/github/Nukaraju2003/Natural-Language-Processing/blob/main/Decrypt_StarterAssignment.ipynb\" target=\"_parent\"><img src=\"https://colab.research.google.com/assets/colab-badge.svg\" alt=\"Open In Colab\"/></a>"
      ]
    },
    {
      "cell_type": "code",
      "execution_count": null,
      "metadata": {
        "id": "fN2qOAf9jv2e"
      },
      "outputs": [],
      "source": [
        "# This assignment is adapted from another course at Indiana University\n",
        "# by D. Crandall in Nov 2019.\n",
        "\n",
        "# Code to apply replacement and rearrangement code.\n",
        "import random\n",
        "\n",
        "# This function takes a string str, and encodes it using two\n",
        "#  strategies: a replacement table, where every instance of each\n",
        "#  character is replaced with another character (e.g. all a's \n",
        "#  replaced with b's), and a rearrangement table, in which\n",
        "#  groups of n characters are rearranged (e.g., hello -> olhel)\n",
        "#\n",
        "# replace_table : This should be a has mapping characters to characters,\n",
        "#                 e.g. { 'a':'q', 'b':'l', 'c':'m', ... }\n",
        "#\n",
        "# rearrange_table : This should be a permutation of the integers from\n",
        "#                   0 to n-1. For example, (3, 2, 1, 0) would\n",
        "#                   reverse every sequence of 4 characters, e.g.\n",
        "#                   \"csci is easy\" -> \"icsc si ysae\"\n",
        "#\n",
        "def decrypt(str, replace_table, rearrange_table):\n",
        "    # apply replace table\n",
        "    str2 = str.translate({ ord(i):ord(replace_table[i]) for i in replace_table })\n",
        "\n",
        "    # pad with spaces to even multiple of rearrange table\n",
        "    str2 +=  ' ' * (len(rearrange_table)-(len(str2) %  len(rearrange_table)))\n",
        "\n",
        "    # and apply rearrange table\n",
        "    return \"\".join([\"\".join([str2[rearrange_table[j] + i] for j in range(0, len(rearrange_table))]) for i in range(0, len(str), len(rearrange_table))])\n",
        "\n",
        "\n",
        "# read in encoded text, convert to lowercase, remove other characters\n",
        "#  (except spaces)\n",
        "def read_clean_file(filename):\n",
        "    with open(filename, \"r\") as file:\n",
        "        return \"\".join([ (\"\".join( [ i if i.islower() or i == ' ' else '' for i in line ] ) + \" \") for line in file ] )"
      ]
    },
    {
      "cell_type": "code",
      "source": [],
      "metadata": {
        "id": "_-3olfaMo7Ga"
      },
      "execution_count": null,
      "outputs": []
    },
    {
      "cell_type": "code",
      "source": [
        "\"\"\"\n",
        "Using the corpus we need to make the generative model or language model from it\n",
        "TODO: UNCOMMENT below line after changing appropriately\n",
        "\"\"\"\n",
        "#corpus = read_clean_file(<path to corpus file>)"
      ],
      "metadata": {
        "id": "7b7tKv_HoLMr"
      },
      "execution_count": null,
      "outputs": []
    },
    {
      "cell_type": "code",
      "source": [
        "# create the dictionary of letter counts from corpus\n",
        "from collections import Counter\n",
        "letter_count = dict(Counter(corpus))"
      ],
      "metadata": {
        "id": "vcdW8NmfqCae"
      },
      "execution_count": null,
      "outputs": []
    },
    {
      "cell_type": "code",
      "source": [
        "# Class to create Probability Disstribution with add-alpha method from counts\n",
        "import math \n",
        "from functools import reduce\n",
        "_NINF = float('-1e300')\n",
        "\n",
        "class Probdist:\n",
        "  def __init__(self, freqdist, gamma=0.5, bins=None):\n",
        "    self._gamma = gamma\n",
        "    self._freqdist = freqdist\n",
        "    n = sum(freqdist.values())\n",
        "    self._bins = len(freqdist) if bins is None else bins\n",
        "    self._divisor = n + self._bins*self._gamma\n",
        "\n",
        "  def prob(self, sample):\n",
        "    c = self._freqdist.get(sample, 0) + self._gamma\n",
        "    return c/self._divisor\n",
        "\n",
        "  def logprob(self, sample):\n",
        "    p = self.prob(sample)\n",
        "    return math.log(p, 2) if p!=0 else _NINF\n",
        "\n",
        "  def samples(self):\n",
        "    return self._freqdist.keys()\n"
      ],
      "metadata": {
        "id": "eoNGtX2PzyTJ"
      },
      "execution_count": null,
      "outputs": []
    },
    {
      "cell_type": "code",
      "source": [
        "# we will use character based language model here as we are dealing with \n",
        "# encrypted text\n",
        "counts = {} #initialize the counts dict\n",
        "\n",
        "# TODO create the counts for the bigrams\n",
        "\n",
        "#convert these into smoothed probability distributions\n",
        "probs = Probdist(counts)"
      ],
      "metadata": {
        "id": "pcX-YsWBqJu3"
      },
      "execution_count": null,
      "outputs": []
    },
    {
      "cell_type": "code",
      "source": [
        "# we shall start with a random replace and rearrange table\n",
        "\n",
        "letters = set(letter_count.keys()) - {' '}\n",
        "letters = list(letters)\n",
        "lcopy = letters.copy()\n",
        "random.shuffle(lcopy)\n",
        "\n",
        "#replace is a dict that converts one letter to another\n",
        "replace_table = {letters[i]:lcopy[i] for i in range(len(letters))}\n",
        "\n",
        "# rearrange is a function that maps one index to another\n",
        "# we will simply use a list instead. See decrypt function\n",
        "n = 4\n",
        "rearrange_table = list(range(n))\n",
        "random.shuffle(rearrange_table)"
      ],
      "metadata": {
        "id": "X_JzF_xVz3jw"
      },
      "execution_count": null,
      "outputs": []
    },
    {
      "cell_type": "code",
      "source": [
        "# TODO: read the encrypted text\n",
        "#with open(<path to encrypted file>, 'r') as f:\n",
        "#  encrypted_text = f.read()"
      ],
      "metadata": {
        "id": "jpj8F59r0Cwo"
      },
      "execution_count": null,
      "outputs": []
    },
    {
      "cell_type": "code",
      "source": [
        "# calculate P(D)\n",
        "def calcprob(probdist, text):\n",
        "  #TODO: caluclate the probability of text using our probability distribution"
      ],
      "metadata": {
        "id": "R-kG_54s7YHA"
      },
      "execution_count": null,
      "outputs": []
    },
    {
      "cell_type": "code",
      "source": [
        "from copy import deepcopy\n",
        "\n",
        "# peturb by one small change\n",
        "def swap2(replace_table, rearrange_table):\n",
        "  \"\"\"\n",
        "  TODO: throw a coin and if heads make one change to rearrange table \n",
        "  else make one change to replace table\n",
        "  DO NOT modify the tables passed in, instead make a deep copy\n",
        "  return the modified ones.\n",
        "\n",
        "  one change can be to swap two indices in rearrange,\n",
        "  or swap values of two keys in replace\n",
        "  \"\"\"\n",
        "  pass"
      ],
      "metadata": {
        "id": "fIGnShgw90-g"
      },
      "execution_count": null,
      "outputs": []
    },
    {
      "cell_type": "code",
      "source": [
        "from tqdm.notebook import tqdm\n",
        "\n",
        "# T = out current guess\n",
        "guess = decrypt(encrypted_text, replace_table, rearrange_table)\n",
        "# we will calculate P(D)\n",
        "prob = calcprob(probs, guess)\n",
        "\n",
        "for x in tqdm(range(10000)): # can use some large number or end based upon delta change in probs\n",
        "  \"\"\"\n",
        "  TODO. Implement Metropolis Hastings algorithm\n",
        "  1. call swap2 to get nw replace and rearrange\n",
        "  2. call decrypt to get new guess\n",
        "  3. find new prob P(D') for the new guess\n",
        "  4. update rearrange/replace tables, the guess, T and prob, P(D) if new prob > prob\n",
        "    or with  probability P(D')/P(D). NOTE that we are calculating logprobs so\n",
        "    do the math correctly.\n",
        "  \"\"\"\n",
        "  pass\n"
      ],
      "metadata": {
        "id": "fTj9BZQv_xuN"
      },
      "execution_count": null,
      "outputs": []
    },
    {
      "cell_type": "code",
      "source": [
        "# find the output and record the best output"
      ],
      "metadata": {
        "id": "4z_GxOkXeggB"
      },
      "execution_count": null,
      "outputs": []
    }
  ]
}