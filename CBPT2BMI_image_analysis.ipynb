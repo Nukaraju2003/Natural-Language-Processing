{
  "nbformat": 4,
  "nbformat_minor": 0,
  "metadata": {
    "colab": {
      "provenance": [],
      "mount_file_id": "1K9XcdqdoTd4IytGnn_ma5BBJ_8YHziPt",
      "authorship_tag": "ABX9TyPHheCK56Wzd2PCH7qZIt4H",
      "include_colab_link": true
    },
    "kernelspec": {
      "name": "python3",
      "display_name": "Python 3"
    },
    "language_info": {
      "name": "python"
    }
  },
  "cells": [
    {
      "cell_type": "markdown",
      "metadata": {
        "id": "view-in-github",
        "colab_type": "text"
      },
      "source": [
        "<a href=\"https://colab.research.google.com/github/Nukaraju2003/Natural-Language-Processing/blob/main/CBPT2BMI_image_analysis.ipynb\" target=\"_parent\"><img src=\"https://colab.research.google.com/assets/colab-badge.svg\" alt=\"Open In Colab\"/></a>"
      ]
    },
    {
      "cell_type": "code",
      "execution_count": 1,
      "metadata": {
        "colab": {
          "base_uri": "https://localhost:8080/",
          "height": 141
        },
        "id": "bRXycOf_a9nF",
        "outputId": "80f0a1a7-2664-43ce-ac50-289882af6f2a"
      },
      "outputs": [
        {
          "output_type": "error",
          "ename": "NameError",
          "evalue": "name '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' is not defined",
          "traceback": [
            "\u001b[0;31m---------------------------------------------------------------------------\u001b[0m",
            "\u001b[0;31mNameError\u001b[0m                                 Traceback (most recent call last)",
            "\u001b[0;32m<ipython-input-1-4ab65b15d16e>\u001b[0m in \u001b[0;36m<cell line: 0>\u001b[0;34m()\u001b[0m\n\u001b[0;32m----> 1\u001b[0;31m \u001b[0mgsk_MWVGg790qtY2TMWEx4wQWGdyb3FYilejvGvViyOjbPBXAO3YlcNr\u001b[0m\u001b[0;34m\u001b[0m\u001b[0;34m\u001b[0m\u001b[0m\n\u001b[0m",
            "\u001b[0;31mNameError\u001b[0m: name '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' is not defined"
          ]
        }
      ],
      "source": [
        "# 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\n",
        "\n",
        "8f72b51c6e70a9d2b59111bbf931d2b509ada536cd1b53566970f75f49e07b39"
      ]
    },
    {
      "cell_type": "code",
      "source": [
        "pip install together\n"
      ],
      "metadata": {
        "id": "iV74zg98p7zZ"
      },
      "execution_count": null,
      "outputs": []
    },
    {
      "cell_type": "code",
      "source": [
        "import os\n",
        "import base64\n",
        "import imghdr\n",
        "from together import Together\n",
        "\n",
        "class ImageProcessor:\n",
        "    def __init__(self, api_key=None):\n",
        "        # Set the API key directly or from the environment variable\n",
        "        self.api_key = api_key or os.getenv(\"TOGETHER_API_KEY\")\n",
        "        if not self.api_key:\n",
        "            raise ValueError(\"API key is missing. Set the TOGETHER_API_KEY environment variable or pass the key directly.\")\n",
        "\n",
        "        self.client = Together(api_key=self.api_key)\n",
        "        self.prompt = \"whats is in the image\"\n",
        "        self.model = \"meta-llama/Llama-3.2-11B-Vision-Instruct-Turbo\"\n",
        "\n",
        "    def get_mime_type(self, image_path):\n",
        "        \"\"\"Determine MIME type based on actual image format using imghdr\"\"\"\n",
        "        img_type = imghdr.what(image_path)\n",
        "        if img_type:\n",
        "            return f'image/{img_type}'\n",
        "        # Fallback to extension-based detection\n",
        "        extension = os.path.splitext(image_path)[1].lower()\n",
        "        mime_types = {\n",
        "            '.png': 'image/png',\n",
        "            '.jpg': 'image/jpeg',\n",
        "            '.jpeg': 'image/jpeg',\n",
        "            '.gif': 'image/gif',\n",
        "            '.webp': 'image/webp'\n",
        "        }\n",
        "        return mime_types.get(extension, 'image/jpeg')\n",
        "\n",
        "    def encode_image(self, image_path):\n",
        "        \"\"\"Encode image to base64 with error handling\"\"\"\n",
        "        if not os.path.exists(image_path):\n",
        "            raise FileNotFoundError(f\"Image file not found: {image_path}\")\n",
        "\n",
        "        try:\n",
        "            with open(image_path, \"rb\") as image_file:\n",
        "                return base64.b64encode(image_file.read()).decode('utf-8')\n",
        "        except Exception as e:\n",
        "            raise Exception(f\"Error encoding image: {str(e)}\")\n",
        "\n",
        "    def analyze_image(self, image_path):\n",
        "        \"\"\"Analyze image using Together API\"\"\"\n",
        "        try:\n",
        "            # Encode image and get MIME type\n",
        "            base64_image = self.encode_image(image_path)\n",
        "            mime_type = self.get_mime_type(image_path)\n",
        "\n",
        "            # Create API request\n",
        "            stream = self.client.chat.completions.create(\n",
        "                model=self.model,\n",
        "                messages=[\n",
        "                    {\n",
        "                        \"role\": \"user\",\n",
        "                        \"content\": [\n",
        "                            {\"type\": \"text\", \"text\": self.prompt},\n",
        "                            {\n",
        "                                \"type\": \"image_url\",\n",
        "                                \"image_url\": {\n",
        "                                    \"url\": f\"data:{mime_type};base64,{base64_image}\"\n",
        "                                },\n",
        "                            },\n",
        "                        ],\n",
        "                    }\n",
        "                ],\n",
        "                stream=True,\n",
        "            )\n",
        "\n",
        "            # Process streaming response\n",
        "            response_text = \"\"\n",
        "            for chunk in stream:\n",
        "                if hasattr(chunk, 'choices') and chunk.choices:\n",
        "                    if hasattr(chunk.choices[0], 'delta'):\n",
        "                        if hasattr(chunk.choices[0].delta, 'content'):\n",
        "                            content = chunk.choices[0].delta.content\n",
        "                            if content is not None:\n",
        "                                print(content, end=\"\", flush=True)\n",
        "                                response_text += content\n",
        "\n",
        "            return response_text\n",
        "\n",
        "        except FileNotFoundError as e:\n",
        "            print(f\"File Error: {str(e)}\")\n",
        "            raise\n",
        "        except Exception as e:\n",
        "            print(f\"Error during image analysis: {str(e)}\")\n",
        "            raise\n",
        "\n",
        "\n",
        "if __name__ == \"__main__\":\n",
        "    try:\n",
        "        # Replace 'your_actual_api_key_here' with your actual API key\n",
        "        processor = ImageProcessor(api_key=\"8f72b51c6e70a9d2b59111bbf931d2b509ada536cd1b53566970f75f49e07b39\")\n",
        "\n",
        "        # Provide your image file path here\n",
        "        image_path = \"/content/drive/MyDrive/My Projects/Trizen/CBPT2BMI/sample.jpg\"\n",
        "        print(f\"\\nAnalyzing {image_path}...\")\n",
        "        result = processor.analyze_image(image_path)\n",
        "        print(\"\\nAnalysis Complete:\\n\", result)\n",
        "\n",
        "    except Exception as e:\n",
        "        print(f\"An error occurred: {str(e)}\")\n"
      ],
      "metadata": {
        "colab": {
          "base_uri": "https://localhost:8080/"
        },
        "id": "oXQa8GSLttJE",
        "outputId": "e9784888-821a-4179-833a-012f91de0d1e"
      },
      "execution_count": 13,
      "outputs": [
        {
          "output_type": "stream",
          "name": "stdout",
          "text": [
            "\n",
            "Analyzing /content/drive/MyDrive/My Projects/Trizen/CBPT2BMI/sample.jpg...\n",
            "The image shows a piece of paper with handwritten notes, likely a prescription or list of items.\n",
            "Analysis Complete:\n",
            " The image shows a piece of paper with handwritten notes, likely a prescription or list of items.\n"
          ]
        }
      ]
    },
    {
      "cell_type": "code",
      "source": [],
      "metadata": {
        "id": "nRBbOxqNwvrW"
      },
      "execution_count": null,
      "outputs": []
    }
  ]
}